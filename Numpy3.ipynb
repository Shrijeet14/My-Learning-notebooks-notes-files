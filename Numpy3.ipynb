{
 "cells": [
  {
   "cell_type": "code",
   "execution_count": 1,
   "id": "ab09042c-596e-4553-8a10-52bcf4b38b71",
   "metadata": {},
   "outputs": [],
   "source": [
    "#__________________________IMPORTANT FUNCTIONS________________________________\n",
    "\n",
    "# np.sort() => To sort  an array . \n",
    "# np.append(\"name of the array\" , no. u want to append) => To add a value in the end of an array.\n",
    "# np.concatenate() => It concats 2 arrays on the basis of some axis value => vertically or horizontallly.\n",
    "# np.unique() => With the help of np.unique() method, we can get the unique values from an array given as parameter in np.unique() method.\n",
    "# np.expand_dims() => With the help of Numpy.expand_dims() method, we can get the expanded dimensions of an array.\n",
    "# np.where(condition , if true , otherwise) => The numpy.where() function returns the indices of elements in an input array where the given condition is satisfied.\n",
    "# np.argmax() / np.argmin() => The numpy.argmax()/np.argmin() function returns indices of the max/min element of the array in a particular axis.\n",
    "# np.cumsum() => numpy.cumsum() function is used when we want to compute the cumulative sum of array elements over a given axis.\n",
    "# np.cumprod() => numpy.cumprod() function is used when we want to compute the cumulative sum of array elements over a given axis.\n",
    "# np.percentile() => numpy.percentile() function used to compute the nth percentile of the given data (array elements) along the specified axis.\n",
    "# np.histogram() => Numpy has a built-in numpy.histogram() function which represents the frequency of data distribution in the graphical form.\n",
    "# np.corrcoef() => Return Pearson product-moment correlation coefficients.\n",
    "# np.isin()  => With the help of numpy.isin() method, we can see that one array having values are checked in a different numpy array having different elements with different sizes.\n",
    "# np.flip() =>The numpy.flip() function reverses the order of array elements along the specified axis, preserving the shape of the array.\n",
    "# np.put(array name , [indecies to change] , [new values]) => The numpy.put() function replaces specific elements of an array with given values of p_array. Array indexed works on flattened array.\n",
    "# np.delete(array name , index) => The numpy.delete() function returns a new array with the deletion of sub-arrays along with the mentioned axis.\n",
    "# np.clip() => numpy.clip() function is used to Clip (limit) the values in an array."
   ]
  },
  {
   "cell_type": "code",
   "execution_count": null,
   "id": "3ca05e01-7bf7-479a-b09c-fd15521609ad",
   "metadata": {},
   "outputs": [],
   "source": []
  },
  {
   "cell_type": "code",
   "execution_count": 2,
   "id": "3b9b72ef-7824-4dc2-b08d-6ca4561947a1",
   "metadata": {},
   "outputs": [],
   "source": [
    "import numpy as np \n",
    "a = np.random.randint(1,100,15)\n",
    "b = np.random.randint(1,100,24).reshape(6,4)"
   ]
  },
  {
   "cell_type": "code",
   "execution_count": 3,
   "id": "e25d7fcf-ff0a-486e-be42-411bd71c60f7",
   "metadata": {},
   "outputs": [
    {
     "data": {
      "text/plain": [
       "array([67, 43, 76, 36, 46, 48, 16, 88, 34, 47, 52, 69, 34, 31, 23])"
      ]
     },
     "execution_count": 3,
     "metadata": {},
     "output_type": "execute_result"
    }
   ],
   "source": [
    "a"
   ]
  },
  {
   "cell_type": "code",
   "execution_count": 4,
   "id": "c6b662e7-744e-4a2e-8cae-a83f7a7b420e",
   "metadata": {},
   "outputs": [
    {
     "data": {
      "text/plain": [
       "array([[14, 66, 99, 73],\n",
       "       [19,  4, 29, 96],\n",
       "       [27, 72, 62, 70],\n",
       "       [29, 88, 48, 29],\n",
       "       [38, 64, 88, 61],\n",
       "       [23,  5, 86, 77]])"
      ]
     },
     "execution_count": 4,
     "metadata": {},
     "output_type": "execute_result"
    }
   ],
   "source": [
    "b"
   ]
  },
  {
   "cell_type": "markdown",
   "id": "5be41d07-d107-4bf1-a3b9-0fc7a63675db",
   "metadata": {},
   "source": [
    "#### np.sort()"
   ]
  },
  {
   "cell_type": "code",
   "execution_count": 5,
   "id": "fa49e2a8-7980-4654-8d8b-99fe4d71367e",
   "metadata": {},
   "outputs": [
    {
     "data": {
      "text/plain": [
       "array([16, 23, 31, 34, 34, 36, 43, 46, 47, 48, 52, 67, 69, 76, 88])"
      ]
     },
     "execution_count": 5,
     "metadata": {},
     "output_type": "execute_result"
    }
   ],
   "source": [
    "np.sort(a)"
   ]
  },
  {
   "cell_type": "code",
   "execution_count": 6,
   "id": "6726b719-520f-4173-9124-26eea7494d9a",
   "metadata": {},
   "outputs": [
    {
     "data": {
      "text/plain": [
       "array([88, 76, 69, 67, 52, 48, 47, 46, 43, 36, 34, 34, 31, 23, 16])"
      ]
     },
     "execution_count": 6,
     "metadata": {},
     "output_type": "execute_result"
    }
   ],
   "source": [
    "np.sort(a)[::-1]"
   ]
  },
  {
   "cell_type": "code",
   "execution_count": 7,
   "id": "c12c0388-c62d-4c36-b14c-ac70d14d140f",
   "metadata": {},
   "outputs": [
    {
     "data": {
      "text/plain": [
       "array([[14,  4, 29, 29],\n",
       "       [19,  5, 48, 61],\n",
       "       [23, 64, 62, 70],\n",
       "       [27, 66, 86, 73],\n",
       "       [29, 72, 88, 77],\n",
       "       [38, 88, 99, 96]])"
      ]
     },
     "execution_count": 7,
     "metadata": {},
     "output_type": "execute_result"
    }
   ],
   "source": [
    "np.sort(b , axis=0) # column wise sorting "
   ]
  },
  {
   "cell_type": "code",
   "execution_count": 8,
   "id": "3e24c209-f1c6-4933-9784-2fd5df6e992d",
   "metadata": {},
   "outputs": [
    {
     "data": {
      "text/plain": [
       "array([[14, 66, 73, 99],\n",
       "       [ 4, 19, 29, 96],\n",
       "       [27, 62, 70, 72],\n",
       "       [29, 29, 48, 88],\n",
       "       [38, 61, 64, 88],\n",
       "       [ 5, 23, 77, 86]])"
      ]
     },
     "execution_count": 8,
     "metadata": {},
     "output_type": "execute_result"
    }
   ],
   "source": [
    "np.sort(b) # Row wise sorting"
   ]
  },
  {
   "cell_type": "markdown",
   "id": "098235ae-728c-41de-b7ad-c2111bd820e1",
   "metadata": {},
   "source": [
    "#### np.append()"
   ]
  },
  {
   "cell_type": "code",
   "execution_count": 9,
   "id": "51bc9b53-2587-4ff6-849f-f373969551e0",
   "metadata": {},
   "outputs": [
    {
     "data": {
      "text/plain": [
       "array([ 67,  43,  76,  36,  46,  48,  16,  88,  34,  47,  52,  69,  34,\n",
       "        31,  23, 200])"
      ]
     },
     "execution_count": 9,
     "metadata": {},
     "output_type": "execute_result"
    }
   ],
   "source": [
    "np.append(a , 200)"
   ]
  },
  {
   "cell_type": "code",
   "execution_count": 10,
   "id": "3532a3cd-ea73-4d3f-a4b1-d31eec5be78e",
   "metadata": {},
   "outputs": [
    {
     "data": {
      "text/plain": [
       "array([[14., 66., 99., 73.,  1.],\n",
       "       [19.,  4., 29., 96.,  1.],\n",
       "       [27., 72., 62., 70.,  1.],\n",
       "       [29., 88., 48., 29.,  1.],\n",
       "       [38., 64., 88., 61.,  1.],\n",
       "       [23.,  5., 86., 77.,  1.]])"
      ]
     },
     "execution_count": 10,
     "metadata": {},
     "output_type": "execute_result"
    }
   ],
   "source": [
    "#2-d array\n",
    "\n",
    "np.append(b ,np.ones((b.shape[0] , 1)) , axis=1)"
   ]
  },
  {
   "cell_type": "markdown",
   "id": "59bc26ac-e7d1-4ad7-bc06-89be207cc676",
   "metadata": {},
   "source": [
    "#### np.concatenate()"
   ]
  },
  {
   "cell_type": "code",
   "execution_count": 11,
   "id": "e0ea2b64-8662-4a85-b58a-95b38042e39d",
   "metadata": {},
   "outputs": [],
   "source": [
    "c = np.arange(6).reshape(2,3)\n",
    "d = np.arange(6 ,12).reshape(2,3)"
   ]
  },
  {
   "cell_type": "code",
   "execution_count": 12,
   "id": "615b407b-0446-4e58-8e2a-36674e6e7232",
   "metadata": {},
   "outputs": [
    {
     "data": {
      "text/plain": [
       "array([[0, 1, 2],\n",
       "       [3, 4, 5]])"
      ]
     },
     "execution_count": 12,
     "metadata": {},
     "output_type": "execute_result"
    }
   ],
   "source": [
    "c"
   ]
  },
  {
   "cell_type": "code",
   "execution_count": 13,
   "id": "6911115a-8331-47ae-b354-cac9fc29f16a",
   "metadata": {},
   "outputs": [
    {
     "data": {
      "text/plain": [
       "array([[ 6,  7,  8],\n",
       "       [ 9, 10, 11]])"
      ]
     },
     "execution_count": 13,
     "metadata": {},
     "output_type": "execute_result"
    }
   ],
   "source": [
    "d"
   ]
  },
  {
   "cell_type": "code",
   "execution_count": 14,
   "id": "8bc8bbfa-27c1-43e7-94ee-dbc037bca2da",
   "metadata": {},
   "outputs": [
    {
     "data": {
      "text/plain": [
       "array([[ 0,  1,  2],\n",
       "       [ 3,  4,  5],\n",
       "       [ 6,  7,  8],\n",
       "       [ 9, 10, 11]])"
      ]
     },
     "execution_count": 14,
     "metadata": {},
     "output_type": "execute_result"
    }
   ],
   "source": [
    "np.concatenate((c,d) , axis = 0)"
   ]
  },
  {
   "cell_type": "code",
   "execution_count": 15,
   "id": "84df4d2f-0ebc-422e-872d-b94c24d3290b",
   "metadata": {},
   "outputs": [
    {
     "data": {
      "text/plain": [
       "array([[ 0,  1,  2,  6,  7,  8],\n",
       "       [ 3,  4,  5,  9, 10, 11]])"
      ]
     },
     "execution_count": 15,
     "metadata": {},
     "output_type": "execute_result"
    }
   ],
   "source": [
    "np.concatenate((c,d) , axis = 1)"
   ]
  },
  {
   "cell_type": "markdown",
   "id": "064a5f07-32d4-4c34-b78d-515e6aa3bffa",
   "metadata": {},
   "source": [
    "#### np.unique()"
   ]
  },
  {
   "cell_type": "code",
   "execution_count": 16,
   "id": "95656ed2-7576-4dcf-ad98-9073c7ad1cb1",
   "metadata": {},
   "outputs": [],
   "source": [
    "# code\n",
    "e = np.array([1,1,2,2,3,3,4,4,5,5,6,6])"
   ]
  },
  {
   "cell_type": "code",
   "execution_count": 17,
   "id": "64c19d7f-690f-406d-bcae-265cb45f2394",
   "metadata": {},
   "outputs": [
    {
     "data": {
      "text/plain": [
       "array([1, 2, 3, 4, 5, 6])"
      ]
     },
     "execution_count": 17,
     "metadata": {},
     "output_type": "execute_result"
    }
   ],
   "source": [
    "np.unique(e)"
   ]
  },
  {
   "cell_type": "markdown",
   "id": "3b53a435-0421-414b-bf68-2356bc558982",
   "metadata": {},
   "source": [
    "#### np.expand_dims()"
   ]
  },
  {
   "cell_type": "code",
   "execution_count": 18,
   "id": "88de8993-9cc2-4c03-842c-e93b1e2744c7",
   "metadata": {},
   "outputs": [
    {
     "data": {
      "text/plain": [
       "array([67, 43, 76, 36, 46, 48, 16, 88, 34, 47, 52, 69, 34, 31, 23])"
      ]
     },
     "execution_count": 18,
     "metadata": {},
     "output_type": "execute_result"
    }
   ],
   "source": [
    " a "
   ]
  },
  {
   "cell_type": "code",
   "execution_count": 19,
   "id": "265075a3-cc39-46a2-9138-9f94e7606d23",
   "metadata": {},
   "outputs": [
    {
     "data": {
      "text/plain": [
       "(15,)"
      ]
     },
     "execution_count": 19,
     "metadata": {},
     "output_type": "execute_result"
    }
   ],
   "source": [
    "a.shape"
   ]
  },
  {
   "cell_type": "code",
   "execution_count": 20,
   "id": "7d448648-98d8-4272-81ff-ef19e082d173",
   "metadata": {},
   "outputs": [
    {
     "data": {
      "text/plain": [
       "array([[67, 43, 76, 36, 46, 48, 16, 88, 34, 47, 52, 69, 34, 31, 23]])"
      ]
     },
     "execution_count": 20,
     "metadata": {},
     "output_type": "execute_result"
    }
   ],
   "source": [
    "np.expand_dims(a  , axis=0)"
   ]
  },
  {
   "cell_type": "code",
   "execution_count": 21,
   "id": "b053ebd7-352d-4305-8edf-8deef2759369",
   "metadata": {},
   "outputs": [
    {
     "data": {
      "text/plain": [
       "(1, 15)"
      ]
     },
     "execution_count": 21,
     "metadata": {},
     "output_type": "execute_result"
    }
   ],
   "source": [
    "np.expand_dims(a  , axis=0).shape"
   ]
  },
  {
   "cell_type": "markdown",
   "id": "2a3adc3f-f7d4-4c81-a143-b0e4f6f8378d",
   "metadata": {},
   "source": [
    "#### np.where()"
   ]
  },
  {
   "cell_type": "code",
   "execution_count": 22,
   "id": "b4c26d80-7e1f-4ccf-b41d-dd4720dbfd17",
   "metadata": {},
   "outputs": [
    {
     "data": {
      "text/plain": [
       "array([67, 43, 76, 36, 46, 48, 16, 88, 34, 47, 52, 69, 34, 31, 23])"
      ]
     },
     "execution_count": 22,
     "metadata": {},
     "output_type": "execute_result"
    }
   ],
   "source": [
    "a\n"
   ]
  },
  {
   "cell_type": "code",
   "execution_count": 23,
   "id": "60a17ae9-1067-438f-b752-c26f9634d37b",
   "metadata": {},
   "outputs": [
    {
     "data": {
      "text/plain": [
       "(array([ 0,  2,  7, 10, 11], dtype=int64),)"
      ]
     },
     "execution_count": 23,
     "metadata": {},
     "output_type": "execute_result"
    }
   ],
   "source": [
    "# Q. Give  the index element of all the numbers which are grater than 50.\n",
    "\n",
    "np.where(a>50)"
   ]
  },
  {
   "cell_type": "code",
   "execution_count": 24,
   "id": "ce02ac4e-6bda-4ad7-9fa0-e3efe46e0773",
   "metadata": {},
   "outputs": [
    {
     "data": {
      "text/plain": [
       "array([ 0, 43,  0, 36, 46, 48, 16,  0, 34, 47,  0,  0, 34, 31, 23])"
      ]
     },
     "execution_count": 24,
     "metadata": {},
     "output_type": "execute_result"
    }
   ],
   "source": [
    "# Q. Replace the  elements which are grater than 50 with 0.\n",
    "np.where(a>50 , 0 , a)"
   ]
  },
  {
   "cell_type": "code",
   "execution_count": 25,
   "id": "50e28bbc-2d45-475f-8b73-cae8e99afa38",
   "metadata": {},
   "outputs": [
    {
     "data": {
      "text/plain": [
       "array([67, 43,  0,  0,  0,  0,  0,  0,  0, 47,  0, 69,  0, 31, 23])"
      ]
     },
     "execution_count": 25,
     "metadata": {},
     "output_type": "execute_result"
    }
   ],
   "source": [
    "# Q. Replace the even elements with 0.\n",
    "np.where(a%2 == 0,0,a)"
   ]
  },
  {
   "cell_type": "markdown",
   "id": "b3f009c2-7068-45bc-b406-95a56913df23",
   "metadata": {},
   "source": [
    "#### np.argmax()"
   ]
  },
  {
   "cell_type": "code",
   "execution_count": 26,
   "id": "76bee489-ac90-4e04-8a6d-2e8d9772c15f",
   "metadata": {},
   "outputs": [
    {
     "data": {
      "text/plain": [
       "array([67, 43, 76, 36, 46, 48, 16, 88, 34, 47, 52, 69, 34, 31, 23])"
      ]
     },
     "execution_count": 26,
     "metadata": {},
     "output_type": "execute_result"
    }
   ],
   "source": [
    "a"
   ]
  },
  {
   "cell_type": "code",
   "execution_count": 27,
   "id": "80be2b96-2cc8-4b7b-a308-fcf3c09cac8c",
   "metadata": {},
   "outputs": [
    {
     "data": {
      "text/plain": [
       "7"
      ]
     },
     "execution_count": 27,
     "metadata": {},
     "output_type": "execute_result"
    }
   ],
   "source": [
    "np.argmax(a)"
   ]
  },
  {
   "cell_type": "code",
   "execution_count": 28,
   "id": "faca1d0b-0ea2-4f7d-a3ef-36d8ecd49d1e",
   "metadata": {},
   "outputs": [
    {
     "data": {
      "text/plain": [
       "array([[14, 66, 99, 73],\n",
       "       [19,  4, 29, 96],\n",
       "       [27, 72, 62, 70],\n",
       "       [29, 88, 48, 29],\n",
       "       [38, 64, 88, 61],\n",
       "       [23,  5, 86, 77]])"
      ]
     },
     "execution_count": 28,
     "metadata": {},
     "output_type": "execute_result"
    }
   ],
   "source": [
    "b"
   ]
  },
  {
   "cell_type": "code",
   "execution_count": 29,
   "id": "2d6fbb89-7326-4692-a71f-81f64a212bc3",
   "metadata": {},
   "outputs": [
    {
     "data": {
      "text/plain": [
       "array([4, 3, 0, 1], dtype=int64)"
      ]
     },
     "execution_count": 29,
     "metadata": {},
     "output_type": "execute_result"
    }
   ],
   "source": [
    "np.argmax(b , axis=0)"
   ]
  },
  {
   "cell_type": "code",
   "execution_count": 30,
   "id": "e7db734f-69ba-4383-a7e6-ea261bb7a02e",
   "metadata": {},
   "outputs": [
    {
     "data": {
      "text/plain": [
       "array([2, 3, 1, 1, 2, 2], dtype=int64)"
      ]
     },
     "execution_count": 30,
     "metadata": {},
     "output_type": "execute_result"
    }
   ],
   "source": [
    "np.argmax(b , axis=1)"
   ]
  },
  {
   "cell_type": "markdown",
   "id": "fb4141eb-723f-4991-bc77-938d60a8fd43",
   "metadata": {},
   "source": [
    "#### np.argmin()"
   ]
  },
  {
   "cell_type": "code",
   "execution_count": 31,
   "id": "e21593e6-2317-48b0-a07a-cd025af4b40a",
   "metadata": {},
   "outputs": [
    {
     "data": {
      "text/plain": [
       "6"
      ]
     },
     "execution_count": 31,
     "metadata": {},
     "output_type": "execute_result"
    }
   ],
   "source": [
    "np.argmin(a)"
   ]
  },
  {
   "cell_type": "code",
   "execution_count": 32,
   "id": "e7c45237-a461-4fc3-bbfa-674eaf4acc8c",
   "metadata": {},
   "outputs": [
    {
     "data": {
      "text/plain": [
       "array([0, 1, 1, 3], dtype=int64)"
      ]
     },
     "execution_count": 32,
     "metadata": {},
     "output_type": "execute_result"
    }
   ],
   "source": [
    "np.argmin(b , axis=0)"
   ]
  },
  {
   "cell_type": "code",
   "execution_count": 33,
   "id": "1b18326d-852b-498b-92b7-b41a1f2af3b5",
   "metadata": {},
   "outputs": [
    {
     "data": {
      "text/plain": [
       "array([0, 1, 0, 0, 0, 1], dtype=int64)"
      ]
     },
     "execution_count": 33,
     "metadata": {},
     "output_type": "execute_result"
    }
   ],
   "source": [
    "np.argmin(b , axis=1)"
   ]
  },
  {
   "cell_type": "markdown",
   "id": "9f290e70-cdf0-4bf4-bc2e-2c18e3993beb",
   "metadata": {},
   "source": [
    "#### np.cumsum()"
   ]
  },
  {
   "cell_type": "code",
   "execution_count": 34,
   "id": "57168ccd-ba65-4bd2-bb42-3f4834b93dcc",
   "metadata": {},
   "outputs": [
    {
     "data": {
      "text/plain": [
       "array([ 67, 110, 186, 222, 268, 316, 332, 420, 454, 501, 553, 622, 656,\n",
       "       687, 710])"
      ]
     },
     "execution_count": 34,
     "metadata": {},
     "output_type": "execute_result"
    }
   ],
   "source": [
    "np.cumsum(a)"
   ]
  },
  {
   "cell_type": "code",
   "execution_count": 35,
   "id": "9016898e-4d5f-490d-af3b-4de6ab5726b7",
   "metadata": {},
   "outputs": [
    {
     "data": {
      "text/plain": [
       "array([  14,   80,  179,  252,  271,  275,  304,  400,  427,  499,  561,\n",
       "        631,  660,  748,  796,  825,  863,  927, 1015, 1076, 1099, 1104,\n",
       "       1190, 1267])"
      ]
     },
     "execution_count": 35,
     "metadata": {},
     "output_type": "execute_result"
    }
   ],
   "source": [
    "np.cumsum(b)"
   ]
  },
  {
   "cell_type": "code",
   "execution_count": 36,
   "id": "4507bef9-8da4-4880-b2ce-9a0f105f3dd7",
   "metadata": {},
   "outputs": [
    {
     "data": {
      "text/plain": [
       "array([[ 14,  80, 179, 252],\n",
       "       [ 19,  23,  52, 148],\n",
       "       [ 27,  99, 161, 231],\n",
       "       [ 29, 117, 165, 194],\n",
       "       [ 38, 102, 190, 251],\n",
       "       [ 23,  28, 114, 191]])"
      ]
     },
     "execution_count": 36,
     "metadata": {},
     "output_type": "execute_result"
    }
   ],
   "source": [
    "np.cumsum(b , axis=1)"
   ]
  },
  {
   "cell_type": "code",
   "execution_count": 37,
   "id": "96922ff9-dd9a-4a6d-8484-10671affdb2d",
   "metadata": {},
   "outputs": [
    {
     "data": {
      "text/plain": [
       "array([[ 14,  66,  99,  73],\n",
       "       [ 33,  70, 128, 169],\n",
       "       [ 60, 142, 190, 239],\n",
       "       [ 89, 230, 238, 268],\n",
       "       [127, 294, 326, 329],\n",
       "       [150, 299, 412, 406]])"
      ]
     },
     "execution_count": 37,
     "metadata": {},
     "output_type": "execute_result"
    }
   ],
   "source": [
    "np.cumsum(b , axis=0)"
   ]
  },
  {
   "cell_type": "markdown",
   "id": "6c543178-fc32-4e1e-9544-b70218f5bd37",
   "metadata": {},
   "source": [
    "#### np.cumprod()"
   ]
  },
  {
   "cell_type": "code",
   "execution_count": 38,
   "id": "5889a09f-7265-465f-bbdd-ace0fda7e3b9",
   "metadata": {},
   "outputs": [
    {
     "data": {
      "text/plain": [
       "array([         67,        2881,      218956,     7882416,   362591136,\n",
       "         224505344,  -702881792, -1724055552,  1511653376, -1966735360,\n",
       "         808976384,   -15204352,  -516947968,  1154482176,   783286272])"
      ]
     },
     "execution_count": 38,
     "metadata": {},
     "output_type": "execute_result"
    }
   ],
   "source": [
    "np.cumprod(a)"
   ]
  },
  {
   "cell_type": "markdown",
   "id": "536d2b27-781d-4e9c-83a4-f155c2d3e50e",
   "metadata": {},
   "source": [
    "#### np.percentile()"
   ]
  },
  {
   "cell_type": "code",
   "execution_count": 39,
   "id": "0f0e7854-36c9-4d7d-83af-1a995a51cfd0",
   "metadata": {},
   "outputs": [
    {
     "data": {
      "text/plain": [
       "array([67, 43, 76, 36, 46, 48, 16, 88, 34, 47, 52, 69, 34, 31, 23])"
      ]
     },
     "execution_count": 39,
     "metadata": {},
     "output_type": "execute_result"
    }
   ],
   "source": [
    "a "
   ]
  },
  {
   "cell_type": "code",
   "execution_count": 40,
   "id": "140020cb-b40d-4bdf-8c7d-7ff876dc056e",
   "metadata": {},
   "outputs": [
    {
     "data": {
      "text/plain": [
       "46.0"
      ]
     },
     "execution_count": 40,
     "metadata": {},
     "output_type": "execute_result"
    }
   ],
   "source": [
    "np.percentile(a , 50)"
   ]
  },
  {
   "cell_type": "code",
   "execution_count": 41,
   "id": "4b489281-3c51-4e6b-bad9-1db028a10bd8",
   "metadata": {},
   "outputs": [
    {
     "data": {
      "text/plain": [
       "59.5"
      ]
     },
     "execution_count": 41,
     "metadata": {},
     "output_type": "execute_result"
    }
   ],
   "source": [
    "np.percentile(a , 75)"
   ]
  },
  {
   "cell_type": "code",
   "execution_count": 42,
   "id": "24f85343-6ca4-413d-98e7-bfe0d2216df6",
   "metadata": {},
   "outputs": [
    {
     "data": {
      "text/plain": [
       "46.0"
      ]
     },
     "execution_count": 42,
     "metadata": {},
     "output_type": "execute_result"
    }
   ],
   "source": [
    "np.median(a)"
   ]
  },
  {
   "cell_type": "markdown",
   "id": "ccb1c3a4-9aaf-4ff1-86ff-38566d98b3e6",
   "metadata": {},
   "source": [
    "#### np.histogram()"
   ]
  },
  {
   "cell_type": "code",
   "execution_count": 43,
   "id": "4f483ab4-47fd-4db4-b951-80e3e8131eea",
   "metadata": {},
   "outputs": [
    {
     "data": {
      "text/plain": [
       "array([67, 43, 76, 36, 46, 48, 16, 88, 34, 47, 52, 69, 34, 31, 23])"
      ]
     },
     "execution_count": 43,
     "metadata": {},
     "output_type": "execute_result"
    }
   ],
   "source": [
    "a"
   ]
  },
  {
   "cell_type": "code",
   "execution_count": 46,
   "id": "be4f77ef-d754-4c99-894d-8281b2d61173",
   "metadata": {},
   "outputs": [
    {
     "data": {
      "text/plain": [
       "(array([0, 1, 1, 4, 4, 1, 2, 1, 1, 0], dtype=int64),\n",
       " array([  0,  10,  20,  30,  40,  50,  60,  70,  80,  90, 100]))"
      ]
     },
     "execution_count": 46,
     "metadata": {},
     "output_type": "execute_result"
    }
   ],
   "source": [
    "bins = 10*(np.arange(11))\n",
    "np.histogram(a , bins=bins)"
   ]
  },
  {
   "cell_type": "code",
   "execution_count": 47,
   "id": "966ed2b3-72de-40eb-8c40-d67b4131704e",
   "metadata": {},
   "outputs": [
    {
     "data": {
      "text/plain": [
       "(array([10,  5], dtype=int64), array([  0,  50, 100]))"
      ]
     },
     "execution_count": 47,
     "metadata": {},
     "output_type": "execute_result"
    }
   ],
   "source": [
    "np.histogram(a , bins=[0,50 , 100])"
   ]
  },
  {
   "cell_type": "markdown",
   "id": "20deb979-0a23-4471-b2fe-53c082a4098a",
   "metadata": {},
   "source": [
    "#### np.corrcoef()"
   ]
  },
  {
   "cell_type": "code",
   "execution_count": 48,
   "id": "ba83f1fd-885c-453a-9fe7-bbcd480f98c7",
   "metadata": {},
   "outputs": [
    {
     "data": {
      "text/plain": [
       "array([[1.        , 0.25344572],\n",
       "       [0.25344572, 1.        ]])"
      ]
     },
     "execution_count": 48,
     "metadata": {},
     "output_type": "execute_result"
    }
   ],
   "source": [
    "salary = np.array([20000,40000,25000,35000,60000])\n",
    "experience = np.array([1,3,2,4,2])\n",
    "\n",
    "np.corrcoef(salary,experience)"
   ]
  },
  {
   "cell_type": "markdown",
   "id": "405fb5cf-d05f-4549-a0bf-a136eb746cbe",
   "metadata": {},
   "source": [
    "#### np.isin()"
   ]
  },
  {
   "cell_type": "code",
   "execution_count": 49,
   "id": "42c2827e-b929-4af5-a4cf-ae77d7d45cd6",
   "metadata": {},
   "outputs": [
    {
     "data": {
      "text/plain": [
       "array([67, 43, 76, 36, 46, 48, 16, 88, 34, 47, 52, 69, 34, 31, 23])"
      ]
     },
     "execution_count": 49,
     "metadata": {},
     "output_type": "execute_result"
    }
   ],
   "source": [
    "a"
   ]
  },
  {
   "cell_type": "code",
   "execution_count": 52,
   "id": "e3c5f2db-32f6-4af2-97e0-959f27322ba9",
   "metadata": {},
   "outputs": [],
   "source": [
    "items = [10 , 31 , 76 , 50 , 88 , 97 , 86 , 22 , 52]"
   ]
  },
  {
   "cell_type": "code",
   "execution_count": 53,
   "id": "52eb7825-0efb-4991-839b-fd1e9aa1f6d7",
   "metadata": {},
   "outputs": [
    {
     "data": {
      "text/plain": [
       "array([False, False,  True, False, False, False, False,  True, False,\n",
       "       False,  True, False, False,  True, False])"
      ]
     },
     "execution_count": 53,
     "metadata": {},
     "output_type": "execute_result"
    }
   ],
   "source": [
    "np.isin(a , items)"
   ]
  },
  {
   "cell_type": "code",
   "execution_count": 54,
   "id": "58479ac6-83ce-4402-8a3d-281f362172f6",
   "metadata": {},
   "outputs": [
    {
     "data": {
      "text/plain": [
       "array([76, 88, 52, 31])"
      ]
     },
     "execution_count": 54,
     "metadata": {},
     "output_type": "execute_result"
    }
   ],
   "source": [
    "a[np.isin(a , items)]"
   ]
  },
  {
   "cell_type": "markdown",
   "id": "8723473f-6653-47f5-8af0-b3399cd28aaa",
   "metadata": {},
   "source": [
    "#### np.flip()"
   ]
  },
  {
   "cell_type": "code",
   "execution_count": 55,
   "id": "4c3445fb-0836-4849-9fa2-bc4194b8d3c7",
   "metadata": {},
   "outputs": [
    {
     "data": {
      "text/plain": [
       "array([67, 43, 76, 36, 46, 48, 16, 88, 34, 47, 52, 69, 34, 31, 23])"
      ]
     },
     "execution_count": 55,
     "metadata": {},
     "output_type": "execute_result"
    }
   ],
   "source": [
    "a"
   ]
  },
  {
   "cell_type": "code",
   "execution_count": 56,
   "id": "9ce3021f-8c30-4532-adfb-aae9b7a32868",
   "metadata": {},
   "outputs": [
    {
     "data": {
      "text/plain": [
       "array([[14, 66, 99, 73],\n",
       "       [19,  4, 29, 96],\n",
       "       [27, 72, 62, 70],\n",
       "       [29, 88, 48, 29],\n",
       "       [38, 64, 88, 61],\n",
       "       [23,  5, 86, 77]])"
      ]
     },
     "execution_count": 56,
     "metadata": {},
     "output_type": "execute_result"
    }
   ],
   "source": [
    "b"
   ]
  },
  {
   "cell_type": "code",
   "execution_count": 57,
   "id": "36988299-1468-4734-858d-3475e1d81866",
   "metadata": {},
   "outputs": [
    {
     "data": {
      "text/plain": [
       "array([23, 31, 34, 69, 52, 47, 34, 88, 16, 48, 46, 36, 76, 43, 67])"
      ]
     },
     "execution_count": 57,
     "metadata": {},
     "output_type": "execute_result"
    }
   ],
   "source": [
    "np.flip(a)"
   ]
  },
  {
   "cell_type": "code",
   "execution_count": 59,
   "id": "8eb52e8e-d015-49a9-acbb-a34c113e7706",
   "metadata": {},
   "outputs": [
    {
     "data": {
      "text/plain": [
       "array([[77, 86,  5, 23],\n",
       "       [61, 88, 64, 38],\n",
       "       [29, 48, 88, 29],\n",
       "       [70, 62, 72, 27],\n",
       "       [96, 29,  4, 19],\n",
       "       [73, 99, 66, 14]])"
      ]
     },
     "execution_count": 59,
     "metadata": {},
     "output_type": "execute_result"
    }
   ],
   "source": [
    "np.flip(b)"
   ]
  },
  {
   "cell_type": "code",
   "execution_count": 60,
   "id": "69833661-1d80-4f75-9c92-6dfe7e0d354a",
   "metadata": {},
   "outputs": [
    {
     "data": {
      "text/plain": [
       "array([[73, 99, 66, 14],\n",
       "       [96, 29,  4, 19],\n",
       "       [70, 62, 72, 27],\n",
       "       [29, 48, 88, 29],\n",
       "       [61, 88, 64, 38],\n",
       "       [77, 86,  5, 23]])"
      ]
     },
     "execution_count": 60,
     "metadata": {},
     "output_type": "execute_result"
    }
   ],
   "source": [
    "np.flip(b , axis=1)"
   ]
  },
  {
   "cell_type": "code",
   "execution_count": 61,
   "id": "c8768d9d-c528-40d0-8cf3-b4db36c216da",
   "metadata": {},
   "outputs": [
    {
     "data": {
      "text/plain": [
       "array([[23,  5, 86, 77],\n",
       "       [38, 64, 88, 61],\n",
       "       [29, 88, 48, 29],\n",
       "       [27, 72, 62, 70],\n",
       "       [19,  4, 29, 96],\n",
       "       [14, 66, 99, 73]])"
      ]
     },
     "execution_count": 61,
     "metadata": {},
     "output_type": "execute_result"
    }
   ],
   "source": [
    "np.flip(b , axis=0)"
   ]
  },
  {
   "cell_type": "markdown",
   "id": "9c1c5f38-5e02-4e81-8844-356157928843",
   "metadata": {},
   "source": [
    "#### np.put()"
   ]
  },
  {
   "cell_type": "code",
   "execution_count": 62,
   "id": "b8b7a719-9ab0-447a-a089-76093df198a4",
   "metadata": {},
   "outputs": [
    {
     "data": {
      "text/plain": [
       "array([67, 43, 76, 36, 46, 48, 16, 88, 34, 47, 52, 69, 34, 31, 23])"
      ]
     },
     "execution_count": 62,
     "metadata": {},
     "output_type": "execute_result"
    }
   ],
   "source": [
    "a"
   ]
  },
  {
   "cell_type": "code",
   "execution_count": 63,
   "id": "2f832254-c663-427d-94d9-b91dea85e6c7",
   "metadata": {},
   "outputs": [],
   "source": [
    "np.put(a , [0,1] , [100 , 100])"
   ]
  },
  {
   "cell_type": "code",
   "execution_count": 64,
   "id": "520f6f5d-bc63-4b51-8573-7ed48d536e38",
   "metadata": {},
   "outputs": [
    {
     "data": {
      "text/plain": [
       "array([100, 100,  76,  36,  46,  48,  16,  88,  34,  47,  52,  69,  34,\n",
       "        31,  23])"
      ]
     },
     "execution_count": 64,
     "metadata": {},
     "output_type": "execute_result"
    }
   ],
   "source": [
    "a"
   ]
  },
  {
   "cell_type": "markdown",
   "id": "442cf09b-0339-4f4d-931c-ac56d0b8c6e1",
   "metadata": {},
   "source": [
    "#### np.delete()"
   ]
  },
  {
   "cell_type": "code",
   "execution_count": 65,
   "id": "e2c761f1-2d13-4f2d-a9cb-cae97413f99d",
   "metadata": {},
   "outputs": [
    {
     "data": {
      "text/plain": [
       "array([100, 100,  76,  36,  46,  48,  16,  88,  34,  47,  52,  69,  34,\n",
       "        31,  23])"
      ]
     },
     "execution_count": 65,
     "metadata": {},
     "output_type": "execute_result"
    }
   ],
   "source": [
    "a"
   ]
  },
  {
   "cell_type": "code",
   "execution_count": 66,
   "id": "d1119948-0c46-45f2-8881-47bd58eef3e9",
   "metadata": {},
   "outputs": [
    {
     "data": {
      "text/plain": [
       "array([100,  76,  36,  46,  48,  16,  88,  34,  47,  52,  69,  34,  31,\n",
       "        23])"
      ]
     },
     "execution_count": 66,
     "metadata": {},
     "output_type": "execute_result"
    }
   ],
   "source": [
    "np.delete(a,0)"
   ]
  },
  {
   "cell_type": "code",
   "execution_count": 67,
   "id": "1dc7ff08-135c-4bd2-97f4-fbb79da3100e",
   "metadata": {},
   "outputs": [
    {
     "data": {
      "text/plain": [
       "array([100,  36,  48,  16,  88,  34,  47,  52,  69,  34,  31,  23])"
      ]
     },
     "execution_count": 67,
     "metadata": {},
     "output_type": "execute_result"
    }
   ],
   "source": [
    "np.delete(a,[0,2,4])"
   ]
  },
  {
   "cell_type": "markdown",
   "id": "4bb47043-5438-471f-ad89-1a3ee721962f",
   "metadata": {},
   "source": [
    "#### Set Functions"
   ]
  },
  {
   "cell_type": "code",
   "execution_count": 68,
   "id": "c6d2ace0-dc0f-49f5-8e6d-434d42194c87",
   "metadata": {},
   "outputs": [
    {
     "data": {
      "text/plain": [
       "array([1, 2, 3, 4, 5, 6, 7])"
      ]
     },
     "execution_count": 68,
     "metadata": {},
     "output_type": "execute_result"
    }
   ],
   "source": [
    "m = np.array([1,2,3,4,5])\n",
    "n = np.array([3,4,5,6,7])\n",
    "\n",
    "np.union1d(m,n)"
   ]
  },
  {
   "cell_type": "code",
   "execution_count": 69,
   "id": "64cd3e38-7365-41f2-84f6-979e921f75d4",
   "metadata": {},
   "outputs": [
    {
     "data": {
      "text/plain": [
       "array([3, 4, 5])"
      ]
     },
     "execution_count": 69,
     "metadata": {},
     "output_type": "execute_result"
    }
   ],
   "source": [
    "np.intersect1d(m,n)"
   ]
  },
  {
   "cell_type": "code",
   "execution_count": 71,
   "id": "a6cd744a-3a0a-447a-a757-6e6b8a368012",
   "metadata": {},
   "outputs": [
    {
     "data": {
      "text/plain": [
       "array([6, 7])"
      ]
     },
     "execution_count": 71,
     "metadata": {},
     "output_type": "execute_result"
    }
   ],
   "source": [
    "np.setdiff1d(n,m)"
   ]
  },
  {
   "cell_type": "code",
   "execution_count": 72,
   "id": "6fd333dc-c68b-4d04-869d-d00e536dd37f",
   "metadata": {},
   "outputs": [
    {
     "data": {
      "text/plain": [
       "array([1, 2, 6, 7])"
      ]
     },
     "execution_count": 72,
     "metadata": {},
     "output_type": "execute_result"
    }
   ],
   "source": [
    "np.setxor1d(m,n)"
   ]
  },
  {
   "cell_type": "code",
   "execution_count": 73,
   "id": "57782e43-5122-43ea-b1bd-9767333de2e8",
   "metadata": {},
   "outputs": [
    {
     "data": {
      "text/plain": [
       "array([1])"
      ]
     },
     "execution_count": 73,
     "metadata": {},
     "output_type": "execute_result"
    }
   ],
   "source": [
    "m[np.in1d(m,1)]"
   ]
  },
  {
   "cell_type": "markdown",
   "id": "57da9ae7-2a0c-49f8-9a51-77832c6c2020",
   "metadata": {},
   "source": [
    "#### np.clip"
   ]
  },
  {
   "cell_type": "code",
   "execution_count": 74,
   "id": "07a9cd9c-1fd2-41fb-877f-a5bab0eadeb7",
   "metadata": {},
   "outputs": [
    {
     "data": {
      "text/plain": [
       "array([100, 100,  76,  36,  46,  48,  16,  88,  34,  47,  52,  69,  34,\n",
       "        31,  23])"
      ]
     },
     "execution_count": 74,
     "metadata": {},
     "output_type": "execute_result"
    }
   ],
   "source": [
    "a"
   ]
  },
  {
   "cell_type": "code",
   "execution_count": 75,
   "id": "9d70e188-3c75-46b8-80f9-250c879dc916",
   "metadata": {},
   "outputs": [
    {
     "data": {
      "text/plain": [
       "array([75, 75, 75, 36, 46, 48, 25, 75, 34, 47, 52, 69, 34, 31, 25])"
      ]
     },
     "execution_count": 75,
     "metadata": {},
     "output_type": "execute_result"
    }
   ],
   "source": [
    "np.clip(a , a_min=25 , a_max=75)"
   ]
  },
  {
   "cell_type": "code",
   "execution_count": null,
   "id": "7981715d-38df-4c52-adfc-6a39f8a7bcc4",
   "metadata": {},
   "outputs": [],
   "source": []
  },
  {
   "cell_type": "code",
   "execution_count": null,
   "id": "10d497d7-4b14-4139-8b79-633f552da38a",
   "metadata": {},
   "outputs": [],
   "source": []
  },
  {
   "cell_type": "code",
   "execution_count": null,
   "id": "5844916f-06c6-4858-a967-dbd2598305c9",
   "metadata": {},
   "outputs": [],
   "source": []
  },
  {
   "cell_type": "code",
   "execution_count": null,
   "id": "a3d1d15a-c989-4911-b76f-907c837480c1",
   "metadata": {},
   "outputs": [],
   "source": []
  },
  {
   "cell_type": "code",
   "execution_count": null,
   "id": "b1ab9506-0bbc-469e-a0e6-8ff7020f110b",
   "metadata": {},
   "outputs": [],
   "source": []
  },
  {
   "cell_type": "code",
   "execution_count": null,
   "id": "f1a59290-3ae6-4bd3-8399-68a88d671e62",
   "metadata": {},
   "outputs": [],
   "source": []
  },
  {
   "cell_type": "code",
   "execution_count": null,
   "id": "a1df192d-4bdf-412a-a06e-527104657c81",
   "metadata": {},
   "outputs": [],
   "source": []
  },
  {
   "cell_type": "code",
   "execution_count": null,
   "id": "53b11e99-194f-422e-942a-610f90968f4f",
   "metadata": {},
   "outputs": [],
   "source": []
  },
  {
   "cell_type": "code",
   "execution_count": null,
   "id": "4d0d6f7d-a19e-402d-8722-c794f605990c",
   "metadata": {},
   "outputs": [],
   "source": []
  },
  {
   "cell_type": "code",
   "execution_count": null,
   "id": "2caac9e1-5d38-401a-bd85-faff262d1a00",
   "metadata": {},
   "outputs": [],
   "source": []
  },
  {
   "cell_type": "code",
   "execution_count": null,
   "id": "23775582-dea7-482b-b120-84613b845bf0",
   "metadata": {},
   "outputs": [],
   "source": []
  }
 ],
 "metadata": {
  "kernelspec": {
   "display_name": "Python 3 (ipykernel)",
   "language": "python",
   "name": "python3"
  },
  "language_info": {
   "codemirror_mode": {
    "name": "ipython",
    "version": 3
   },
   "file_extension": ".py",
   "mimetype": "text/x-python",
   "name": "python",
   "nbconvert_exporter": "python",
   "pygments_lexer": "ipython3",
   "version": "3.8.10"
  }
 },
 "nbformat": 4,
 "nbformat_minor": 5
}
