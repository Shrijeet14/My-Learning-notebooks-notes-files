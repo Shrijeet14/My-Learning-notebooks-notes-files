{
 "cells": [
  {
   "cell_type": "markdown",
   "id": "ce994bd2-e176-44bc-b308-a951670d952d",
   "metadata": {},
   "source": [
    "### What is numpy?\n",
    "\n",
    "NumPy is the fundamental package for scientific computing in Python. It is a Python library that provides a multidimensional array object, various derived objects (such as masked arrays and matrices), and an assortment of routines for fast operations on arrays, including mathematical, logical, shape manipulation, sorting, selecting, I/O, discrete Fourier transforms, basic linear algebra, basic statistical operations, random simulation and much more.\n",
    "\n",
    "\n",
    "At the core of the NumPy package, is the ndarray object. This encapsulates n-dimensional arrays of homogeneous data types"
   ]
  },
  {
   "cell_type": "markdown",
   "id": "3b9921fe-b84d-4cdf-b386-4e481f408859",
   "metadata": {},
   "source": [
    "### Numpy Arrays Vs Python Sequences\n",
    "\n",
    "- NumPy arrays have a fixed size at creation, unlike Python lists (which can grow dynamically). Changing the size of an ndarray will create a new array and delete the original.\n",
    "\n",
    "- The elements in a NumPy array are all required to be of the same data type, and thus will be the same size in memory.\n",
    "\n",
    "- NumPy arrays facilitate advanced mathematical and other types of operations on large numbers of data. Typically, such operations are executed more efficiently and with less code than is possible using Python’s built-in sequences.\n",
    "\n",
    "- A growing plethora of scientific and mathematical Python-based packages are using NumPy arrays; though these typically support Python-sequence input, they convert such input to NumPy arrays prior to processing, and they often output NumPy arrays."
   ]
  },
  {
   "cell_type": "code",
   "execution_count": 127,
   "id": "b3df2ee6-327f-45b2-9383-a7284edfa86b",
   "metadata": {},
   "outputs": [],
   "source": [
    "#-----------------Creating a Numpy Array-------------\n",
    "\n",
    "# np.array() => Used to create numpy array.\n",
    "# np.arange() => used to create numpy array in a range (first included , last not included) . ex = an array having elements from 1 to 10.\n",
    "# .reshape() => This is used to reshape an array from one size to another .\n",
    "# np.ones() => It will initiate an array of give sizes with all the elements as 1 .\n",
    "# np.zeroes() => It will initiate an array of give sizes with all the elements as 0 .\n",
    "# np.random() => It will initiate an array of give sizes with all the elements randomly between 0 and 1.\n",
    "# np.linspace(lower bound , upper bound , no. of points) => Generates linearly spaced points between given ranges and no. of points.\n",
    "# np.identity() => Used to create a identity matrix of given size.\n",
    "\n",
    "#-----------------Numpy Attributes------------------\n",
    "\n",
    "# ndim => to know the dimension of the given arrray.\n",
    "# shape => This gives us the shape of the given array .\n",
    "# size => This gives us the size or total no. of elements of the given array.\n",
    "# itemsize => it gives us the size of the numpy array in the memory. \n",
    "# astype() => it is used to change the data type . \n",
    "\n",
    "#-----------------Numpy Functions-------------------\n",
    "\n",
    "# max / min / sum / prod  => np.max()\n",
    "# mean / median / var / std => np.mean()\n",
    "# dot product => np.dot()\n",
    "# log / exp  => np.exp() , np.log()\n",
    "# round / floor / ceil => np.floor() , np.round()\n",
    "\n",
    "#----------------Some More Important Functions-----\n",
    "\n",
    "# np.nditer() => This is used to go to each items of the 2-d or 3-d array.\n",
    "# array.T => To take the transpose of the array \n",
    "# array.ravel => To convert any dimension array into 1-d array \n",
    "# Stacking => np.hstack() , np.vstack() \n",
    "# Spliting => np.hsplit() , np.vsplit()"
   ]
  },
  {
   "cell_type": "markdown",
   "id": "6a1d51bf-431b-4628-b97d-72354f20eacc",
   "metadata": {},
   "source": [
    "## Creating Numpy Arrays\n"
   ]
  },
  {
   "cell_type": "code",
   "execution_count": 2,
   "id": "32e2f4ac-fa95-42fb-86ff-bf16434aad3d",
   "metadata": {},
   "outputs": [],
   "source": [
    "import numpy as np "
   ]
  },
  {
   "cell_type": "code",
   "execution_count": 3,
   "id": "78a40a0a-cba2-46e8-9feb-8468cb4a7888",
   "metadata": {},
   "outputs": [],
   "source": [
    "a=np.array([1,2,3])"
   ]
  },
  {
   "cell_type": "code",
   "execution_count": 4,
   "id": "e62198f8-663a-477c-bec2-683920140d7f",
   "metadata": {},
   "outputs": [
    {
     "data": {
      "text/plain": [
       "array([1, 2, 3])"
      ]
     },
     "execution_count": 4,
     "metadata": {},
     "output_type": "execute_result"
    }
   ],
   "source": [
    "a"
   ]
  },
  {
   "cell_type": "code",
   "execution_count": 5,
   "id": "4e6d5d11-9490-42ac-9d91-7978b78b9473",
   "metadata": {},
   "outputs": [
    {
     "data": {
      "text/plain": [
       "numpy.ndarray"
      ]
     },
     "execution_count": 5,
     "metadata": {},
     "output_type": "execute_result"
    }
   ],
   "source": [
    "type(a)"
   ]
  },
  {
   "cell_type": "markdown",
   "id": "e1da3567-6aea-49d0-b256-ec43d6412946",
   "metadata": {},
   "source": [
    "### 2D or 3d Array"
   ]
  },
  {
   "cell_type": "code",
   "execution_count": 6,
   "id": "7bf562dd-f01a-47f9-8a55-05f16fef7731",
   "metadata": {},
   "outputs": [],
   "source": [
    "b = np.array([[1,2,3],[4,5,6],[7,8,9]])"
   ]
  },
  {
   "cell_type": "code",
   "execution_count": 7,
   "id": "75ce1395-e659-42ab-ab44-43168791bcc1",
   "metadata": {},
   "outputs": [
    {
     "data": {
      "text/plain": [
       "array([[1, 2, 3],\n",
       "       [4, 5, 6],\n",
       "       [7, 8, 9]])"
      ]
     },
     "execution_count": 7,
     "metadata": {},
     "output_type": "execute_result"
    }
   ],
   "source": [
    "b"
   ]
  },
  {
   "cell_type": "code",
   "execution_count": 8,
   "id": "3bd12b2c-12d2-44c3-bfbf-adc2e07d05ad",
   "metadata": {},
   "outputs": [
    {
     "data": {
      "text/plain": [
       "array([[1, 2],\n",
       "       [3, 4],\n",
       "       [7, 8]])"
      ]
     },
     "execution_count": 8,
     "metadata": {},
     "output_type": "execute_result"
    }
   ],
   "source": [
    "c= np.array([[1 , 2],[3,4],[7,8]])\n",
    "c"
   ]
  },
  {
   "cell_type": "code",
   "execution_count": 9,
   "id": "a511de83-a1f9-43fc-b37b-fc9d6f0a651a",
   "metadata": {},
   "outputs": [
    {
     "name": "stdout",
     "output_type": "stream",
     "text": [
      "[[[1 2]\n",
      "  [3 4]]\n",
      "\n",
      " [[5 6]\n",
      "  [7 8]]]\n"
     ]
    }
   ],
   "source": [
    "d = np.array([[[1,2],[3,4]],[[5,6],[7,8]]])\n",
    "print(d)"
   ]
  },
  {
   "cell_type": "code",
   "execution_count": 10,
   "id": "a22e8f08-4597-4f71-84eb-3c3fde246f74",
   "metadata": {},
   "outputs": [
    {
     "data": {
      "text/plain": [
       "array([ 8.,  6., 12.])"
      ]
     },
     "execution_count": 10,
     "metadata": {},
     "output_type": "execute_result"
    }
   ],
   "source": [
    "#dtype\n",
    "np.array([8 , 6 , 12] , dtype=float)"
   ]
  },
  {
   "cell_type": "markdown",
   "id": "72150ed3-f2f2-4a6c-a7b1-f433daae6b23",
   "metadata": {},
   "source": [
    "### np.arange()"
   ]
  },
  {
   "cell_type": "code",
   "execution_count": 11,
   "id": "e822e44d-8ca5-4cc8-9657-86443cc0adbd",
   "metadata": {},
   "outputs": [
    {
     "data": {
      "text/plain": [
       "array([ 1,  2,  3,  4,  5,  6,  7,  8,  9, 10, 11])"
      ]
     },
     "execution_count": 11,
     "metadata": {},
     "output_type": "execute_result"
    }
   ],
   "source": [
    "np.arange(1 , 12)"
   ]
  },
  {
   "cell_type": "code",
   "execution_count": 12,
   "id": "02f8041b-6a41-41d4-9bfe-77e6a5a43dc8",
   "metadata": {},
   "outputs": [
    {
     "data": {
      "text/plain": [
       "array([ 1,  3,  5,  7,  9, 11])"
      ]
     },
     "execution_count": 12,
     "metadata": {},
     "output_type": "execute_result"
    }
   ],
   "source": [
    "np.arange(1 , 12 , 2)"
   ]
  },
  {
   "cell_type": "markdown",
   "id": "482d4cc3-65fc-4dac-8c5c-465ff100d886",
   "metadata": {},
   "source": [
    "### .reshape()"
   ]
  },
  {
   "cell_type": "code",
   "execution_count": 13,
   "id": "51cf56ac-cb0b-47d1-804a-81c1428b5f98",
   "metadata": {},
   "outputs": [
    {
     "data": {
      "text/plain": [
       "array([[ 8,  9, 10, 11],\n",
       "       [12, 13, 14, 15],\n",
       "       [16, 17, 18, 19]])"
      ]
     },
     "execution_count": 13,
     "metadata": {},
     "output_type": "execute_result"
    }
   ],
   "source": [
    "np.arange(8,20).reshape(3,4)"
   ]
  },
  {
   "cell_type": "code",
   "execution_count": 14,
   "id": "09644da0-8ce4-4d17-b5e3-779573b7ce90",
   "metadata": {},
   "outputs": [
    {
     "data": {
      "text/plain": [
       "array([ 1,  2,  3,  4,  5,  6,  7,  8,  9, 10, 11, 12, 13, 14, 15])"
      ]
     },
     "execution_count": 14,
     "metadata": {},
     "output_type": "execute_result"
    }
   ],
   "source": [
    "a = np.arange(1,16)\n",
    "a"
   ]
  },
  {
   "cell_type": "code",
   "execution_count": 15,
   "id": "63d4c61e-b0e3-4c7d-9ac6-4115344d8f5e",
   "metadata": {},
   "outputs": [
    {
     "data": {
      "text/plain": [
       "array([[ 1,  2,  3],\n",
       "       [ 4,  5,  6],\n",
       "       [ 7,  8,  9],\n",
       "       [10, 11, 12],\n",
       "       [13, 14, 15]])"
      ]
     },
     "execution_count": 15,
     "metadata": {},
     "output_type": "execute_result"
    }
   ],
   "source": [
    "a.reshape(5,3)"
   ]
  },
  {
   "cell_type": "markdown",
   "id": "dec65bce-9cc1-4293-a644-407d361ba2d4",
   "metadata": {},
   "source": [
    "### np.ones() or np.zeroes()"
   ]
  },
  {
   "cell_type": "code",
   "execution_count": 16,
   "id": "e367e708-33d5-4bea-84be-6500aedd9938",
   "metadata": {},
   "outputs": [
    {
     "data": {
      "text/plain": [
       "array([[1., 1., 1., 1.],\n",
       "       [1., 1., 1., 1.],\n",
       "       [1., 1., 1., 1.]])"
      ]
     },
     "execution_count": 16,
     "metadata": {},
     "output_type": "execute_result"
    }
   ],
   "source": [
    "np.ones((3 , 4))"
   ]
  },
  {
   "cell_type": "code",
   "execution_count": 17,
   "id": "4dbe6b44-9572-418a-a97d-7ca6f1eb4ba5",
   "metadata": {},
   "outputs": [
    {
     "data": {
      "text/plain": [
       "array([[[1., 1.],\n",
       "        [1., 1.],\n",
       "        [1., 1.],\n",
       "        [1., 1.]],\n",
       "\n",
       "       [[1., 1.],\n",
       "        [1., 1.],\n",
       "        [1., 1.],\n",
       "        [1., 1.]],\n",
       "\n",
       "       [[1., 1.],\n",
       "        [1., 1.],\n",
       "        [1., 1.],\n",
       "        [1., 1.]]])"
      ]
     },
     "execution_count": 17,
     "metadata": {},
     "output_type": "execute_result"
    }
   ],
   "source": [
    "np.ones(([3,4,2]))"
   ]
  },
  {
   "cell_type": "code",
   "execution_count": 18,
   "id": "e118f355-4e40-4376-ad78-a605d21b5525",
   "metadata": {},
   "outputs": [
    {
     "data": {
      "text/plain": [
       "array([[0., 0., 0., 0.],\n",
       "       [0., 0., 0., 0.],\n",
       "       [0., 0., 0., 0.]])"
      ]
     },
     "execution_count": 18,
     "metadata": {},
     "output_type": "execute_result"
    }
   ],
   "source": [
    "np.zeros((3 , 4))"
   ]
  },
  {
   "cell_type": "markdown",
   "id": "0207f95f-5c21-46a4-af37-f20bf328edde",
   "metadata": {},
   "source": [
    "### np.random"
   ]
  },
  {
   "cell_type": "code",
   "execution_count": 19,
   "id": "a37f5bf1-f7a1-45b8-9bf4-58e5d8c8093c",
   "metadata": {},
   "outputs": [
    {
     "data": {
      "text/plain": [
       "array([[0.63880721, 0.3001734 , 0.53028848, 0.82996636, 0.23861594],\n",
       "       [0.32445476, 0.49702847, 0.83934958, 0.9870533 , 0.67779472],\n",
       "       [0.35507958, 0.03605527, 0.28723666, 0.20221997, 0.74362377]])"
      ]
     },
     "execution_count": 19,
     "metadata": {},
     "output_type": "execute_result"
    }
   ],
   "source": [
    "np.random.random((3,5))"
   ]
  },
  {
   "cell_type": "markdown",
   "id": "842149bd-ee09-4d2f-a0aa-2444d85c3adc",
   "metadata": {},
   "source": [
    "### np.linspace()"
   ]
  },
  {
   "cell_type": "code",
   "execution_count": 20,
   "id": "6618ca0f-b3d9-480e-a936-5c8d159d75e9",
   "metadata": {},
   "outputs": [
    {
     "data": {
      "text/plain": [
       "array([ 1.  ,  8.25, 15.5 , 22.75, 30.  ])"
      ]
     },
     "execution_count": 20,
     "metadata": {},
     "output_type": "execute_result"
    }
   ],
   "source": [
    "np.linspace(1, 30 , 5)"
   ]
  },
  {
   "cell_type": "markdown",
   "id": "0728f560-354c-404b-ae34-e103a1eba9d3",
   "metadata": {},
   "source": [
    "### np.identity"
   ]
  },
  {
   "cell_type": "code",
   "execution_count": 21,
   "id": "1fa8816f-9b76-4b8f-bdd5-0fd3000875ee",
   "metadata": {},
   "outputs": [
    {
     "data": {
      "text/plain": [
       "array([[1., 0., 0.],\n",
       "       [0., 1., 0.],\n",
       "       [0., 0., 1.]])"
      ]
     },
     "execution_count": 21,
     "metadata": {},
     "output_type": "execute_result"
    }
   ],
   "source": [
    "np.identity(3)"
   ]
  },
  {
   "cell_type": "markdown",
   "id": "bf484ec6-6989-4edf-9ecb-7404e2ea2c79",
   "metadata": {},
   "source": [
    "## Numpy Attributes"
   ]
  },
  {
   "cell_type": "code",
   "execution_count": 22,
   "id": "124929e9-609b-47a4-a413-73b50fc64477",
   "metadata": {},
   "outputs": [],
   "source": [
    "a1 = np.arange(10,dtype=np.int64)\n",
    "a2 = np.arange(12,dtype=float).reshape(3,4)\n",
    "a3 = np.arange(8).reshape(2,2,2)"
   ]
  },
  {
   "cell_type": "markdown",
   "id": "0c1c0309-ec4a-488e-8efb-8ac38d840da2",
   "metadata": {},
   "source": [
    "### ndim"
   ]
  },
  {
   "cell_type": "code",
   "execution_count": 23,
   "id": "26db32d0-830b-499a-96bc-8eac2a381456",
   "metadata": {},
   "outputs": [
    {
     "data": {
      "text/plain": [
       "1"
      ]
     },
     "execution_count": 23,
     "metadata": {},
     "output_type": "execute_result"
    }
   ],
   "source": [
    "a1.ndim"
   ]
  },
  {
   "cell_type": "code",
   "execution_count": 24,
   "id": "a9ad2b2c-cba2-4dfc-8292-1ea45e845b5e",
   "metadata": {},
   "outputs": [
    {
     "data": {
      "text/plain": [
       "2"
      ]
     },
     "execution_count": 24,
     "metadata": {},
     "output_type": "execute_result"
    }
   ],
   "source": [
    "a2.ndim"
   ]
  },
  {
   "cell_type": "code",
   "execution_count": 25,
   "id": "ee4c30b4-0644-46a3-8e8a-81bbe22e1c6b",
   "metadata": {},
   "outputs": [
    {
     "data": {
      "text/plain": [
       "3"
      ]
     },
     "execution_count": 25,
     "metadata": {},
     "output_type": "execute_result"
    }
   ],
   "source": [
    "a3.ndim"
   ]
  },
  {
   "cell_type": "markdown",
   "id": "31ce29b9-5f66-4e0e-88b5-6f544c8de710",
   "metadata": {},
   "source": [
    "### shape"
   ]
  },
  {
   "cell_type": "code",
   "execution_count": 26,
   "id": "301432fe-dd1a-4311-9474-4c8a0c6f1523",
   "metadata": {},
   "outputs": [
    {
     "data": {
      "text/plain": [
       "(10,)"
      ]
     },
     "execution_count": 26,
     "metadata": {},
     "output_type": "execute_result"
    }
   ],
   "source": [
    "a1.shape"
   ]
  },
  {
   "cell_type": "code",
   "execution_count": 27,
   "id": "3a84f0f5-0dc0-4186-a566-7284f4296dd9",
   "metadata": {},
   "outputs": [
    {
     "data": {
      "text/plain": [
       "(3, 4)"
      ]
     },
     "execution_count": 27,
     "metadata": {},
     "output_type": "execute_result"
    }
   ],
   "source": [
    "a2.shape"
   ]
  },
  {
   "cell_type": "code",
   "execution_count": 28,
   "id": "e85a2bcf-e533-4890-af99-987d11a8634f",
   "metadata": {},
   "outputs": [
    {
     "data": {
      "text/plain": [
       "(2, 2, 2)"
      ]
     },
     "execution_count": 28,
     "metadata": {},
     "output_type": "execute_result"
    }
   ],
   "source": [
    "a3.shape # => Gives us the shape as (no. of dimensions , rows , columns)"
   ]
  },
  {
   "cell_type": "markdown",
   "id": "e7750124-1e42-48d3-8b50-be952aa870c7",
   "metadata": {},
   "source": [
    "### size"
   ]
  },
  {
   "cell_type": "code",
   "execution_count": 29,
   "id": "aee4cb37-3e2b-4ce6-8ea8-8a18148c068a",
   "metadata": {},
   "outputs": [
    {
     "data": {
      "text/plain": [
       "10"
      ]
     },
     "execution_count": 29,
     "metadata": {},
     "output_type": "execute_result"
    }
   ],
   "source": [
    "a1.size"
   ]
  },
  {
   "cell_type": "code",
   "execution_count": 30,
   "id": "c2ead119-c9e6-43e7-80f5-7d2cabf49ac6",
   "metadata": {},
   "outputs": [
    {
     "data": {
      "text/plain": [
       "12"
      ]
     },
     "execution_count": 30,
     "metadata": {},
     "output_type": "execute_result"
    }
   ],
   "source": [
    "a2.size"
   ]
  },
  {
   "cell_type": "code",
   "execution_count": 31,
   "id": "d07b0a73-6b51-470c-be56-89c23b7d708a",
   "metadata": {},
   "outputs": [
    {
     "data": {
      "text/plain": [
       "8"
      ]
     },
     "execution_count": 31,
     "metadata": {},
     "output_type": "execute_result"
    }
   ],
   "source": [
    "a3.size"
   ]
  },
  {
   "cell_type": "markdown",
   "id": "ceb9e28e-3a06-470c-b5f3-e6d30472f33f",
   "metadata": {},
   "source": [
    "#### itemsize"
   ]
  },
  {
   "cell_type": "code",
   "execution_count": 32,
   "id": "7ae19cff-7665-43df-9845-0c8caef8d29c",
   "metadata": {},
   "outputs": [
    {
     "data": {
      "text/plain": [
       "8"
      ]
     },
     "execution_count": 32,
     "metadata": {},
     "output_type": "execute_result"
    }
   ],
   "source": [
    "a1.itemsize"
   ]
  },
  {
   "cell_type": "code",
   "execution_count": 33,
   "id": "edd8683c-fe87-4038-b45e-0638891f382e",
   "metadata": {},
   "outputs": [
    {
     "data": {
      "text/plain": [
       "8"
      ]
     },
     "execution_count": 33,
     "metadata": {},
     "output_type": "execute_result"
    }
   ],
   "source": [
    "a2.itemsize"
   ]
  },
  {
   "cell_type": "code",
   "execution_count": 34,
   "id": "06df69a7-1496-41b3-916b-2e3dc1039144",
   "metadata": {},
   "outputs": [
    {
     "data": {
      "text/plain": [
       "4"
      ]
     },
     "execution_count": 34,
     "metadata": {},
     "output_type": "execute_result"
    }
   ],
   "source": [
    "a3.itemsize"
   ]
  },
  {
   "cell_type": "markdown",
   "id": "563b05bf-a8d5-4e37-9b17-81e55366c560",
   "metadata": {},
   "source": [
    "### Change Data Type "
   ]
  },
  {
   "cell_type": "code",
   "execution_count": 35,
   "id": "5b926b85-7548-4254-b3e1-0b3a8c3fbafa",
   "metadata": {},
   "outputs": [
    {
     "data": {
      "text/plain": [
       "dtype('int64')"
      ]
     },
     "execution_count": 35,
     "metadata": {},
     "output_type": "execute_result"
    }
   ],
   "source": [
    "a1.dtype"
   ]
  },
  {
   "cell_type": "code",
   "execution_count": 36,
   "id": "0a51d0b6-c5a4-44a4-846a-645d0b411475",
   "metadata": {},
   "outputs": [
    {
     "data": {
      "text/plain": [
       "dtype('int32')"
      ]
     },
     "execution_count": 36,
     "metadata": {},
     "output_type": "execute_result"
    }
   ],
   "source": [
    "a1.astype(np.int32).dtype"
   ]
  },
  {
   "cell_type": "markdown",
   "id": "9da55bca-eb49-4222-95b3-2b27939f17d0",
   "metadata": {},
   "source": [
    "### Array Operations"
   ]
  },
  {
   "cell_type": "code",
   "execution_count": 37,
   "id": "d407ebaf-7298-40ca-bb96-7bc3eaf45622",
   "metadata": {},
   "outputs": [],
   "source": [
    "a1=np.arange(12).reshape(3,4)\n",
    "a2=np.arange(12,24).reshape(3,4)"
   ]
  },
  {
   "cell_type": "markdown",
   "id": "4eb5696f-b5ea-4670-bf60-8e12f72aacbe",
   "metadata": {},
   "source": [
    "#### Scalar Operations"
   ]
  },
  {
   "cell_type": "code",
   "execution_count": 38,
   "id": "1bdb4f1e-e61b-42ac-96dc-d27188b748c0",
   "metadata": {},
   "outputs": [
    {
     "data": {
      "text/plain": [
       "array([[ 0,  2,  4,  6],\n",
       "       [ 8, 10, 12, 14],\n",
       "       [16, 18, 20, 22]])"
      ]
     },
     "execution_count": 38,
     "metadata": {},
     "output_type": "execute_result"
    }
   ],
   "source": [
    "a1 *2"
   ]
  },
  {
   "cell_type": "code",
   "execution_count": 39,
   "id": "4927b4c6-32cc-4f1a-bea6-42266a80ef42",
   "metadata": {},
   "outputs": [
    {
     "data": {
      "text/plain": [
       "array([[  0,   1,   4,   9],\n",
       "       [ 16,  25,  36,  49],\n",
       "       [ 64,  81, 100, 121]])"
      ]
     },
     "execution_count": 39,
     "metadata": {},
     "output_type": "execute_result"
    }
   ],
   "source": [
    "a1 ** 2"
   ]
  },
  {
   "cell_type": "code",
   "execution_count": 40,
   "id": "ec0e6a42-84f9-48f6-9b65-115db9fdfc1e",
   "metadata": {},
   "outputs": [
    {
     "data": {
      "text/plain": [
       "array([[False, False, False, False],\n",
       "       [False,  True,  True,  True],\n",
       "       [ True,  True,  True,  True]])"
      ]
     },
     "execution_count": 40,
     "metadata": {},
     "output_type": "execute_result"
    }
   ],
   "source": [
    "a2 >16"
   ]
  },
  {
   "cell_type": "code",
   "execution_count": 41,
   "id": "667d5bf4-3a64-4258-878e-23051cbdd775",
   "metadata": {},
   "outputs": [
    {
     "data": {
      "text/plain": [
       "array([[False, False, False, False],\n",
       "       [False, False, False,  True],\n",
       "       [False, False, False, False]])"
      ]
     },
     "execution_count": 41,
     "metadata": {},
     "output_type": "execute_result"
    }
   ],
   "source": [
    "a1 == 7 \n"
   ]
  },
  {
   "cell_type": "markdown",
   "id": "a31845ef-9001-4fa1-bb3c-ddb3283b4c29",
   "metadata": {},
   "source": [
    "#### Vector Operations"
   ]
  },
  {
   "cell_type": "code",
   "execution_count": 42,
   "id": "9f51511b-9ace-4ff5-bab3-41931f2863c6",
   "metadata": {},
   "outputs": [
    {
     "data": {
      "text/plain": [
       "array([[12, 14, 16, 18],\n",
       "       [20, 22, 24, 26],\n",
       "       [28, 30, 32, 34]])"
      ]
     },
     "execution_count": 42,
     "metadata": {},
     "output_type": "execute_result"
    }
   ],
   "source": [
    "a1 + a2"
   ]
  },
  {
   "cell_type": "code",
   "execution_count": 43,
   "id": "c758a3b5-eb09-4321-ac1c-933912cf2d44",
   "metadata": {},
   "outputs": [
    {
     "data": {
      "text/plain": [
       "array([[  0,  13,  28,  45],\n",
       "       [ 64,  85, 108, 133],\n",
       "       [160, 189, 220, 253]])"
      ]
     },
     "execution_count": 43,
     "metadata": {},
     "output_type": "execute_result"
    }
   ],
   "source": [
    "a1 * a2"
   ]
  },
  {
   "cell_type": "markdown",
   "id": "16f83833-70fd-4f26-8d27-e7c20e3d3935",
   "metadata": {},
   "source": [
    "#### Array Functions "
   ]
  },
  {
   "cell_type": "code",
   "execution_count": 44,
   "id": "92942b67-c32d-42ed-92c3-210f95e63cdf",
   "metadata": {},
   "outputs": [],
   "source": [
    "a1 = np.random.random((3,3))"
   ]
  },
  {
   "cell_type": "code",
   "execution_count": 45,
   "id": "23abf8fb-9b86-499d-ab49-c4de95ec4378",
   "metadata": {},
   "outputs": [
    {
     "data": {
      "text/plain": [
       "array([[0.55026312, 0.49802751, 0.30244866],\n",
       "       [0.3921543 , 0.86857005, 0.95836632],\n",
       "       [0.57684782, 0.40505121, 0.39956249]])"
      ]
     },
     "execution_count": 45,
     "metadata": {},
     "output_type": "execute_result"
    }
   ],
   "source": [
    "a1"
   ]
  },
  {
   "cell_type": "code",
   "execution_count": 46,
   "id": "3179884b-5559-460e-ba06-a6602cec10f6",
   "metadata": {},
   "outputs": [],
   "source": [
    "a1 = np.round(a1*100)"
   ]
  },
  {
   "cell_type": "code",
   "execution_count": 47,
   "id": "a1fdf10f-14cf-4499-bf66-bd4fe7685f9c",
   "metadata": {},
   "outputs": [
    {
     "data": {
      "text/plain": [
       "array([[55., 50., 30.],\n",
       "       [39., 87., 96.],\n",
       "       [58., 41., 40.]])"
      ]
     },
     "execution_count": 47,
     "metadata": {},
     "output_type": "execute_result"
    }
   ],
   "source": [
    "a1"
   ]
  },
  {
   "cell_type": "markdown",
   "id": "cd3ed3af-2ea6-49fe-92e5-a54d6b59eef1",
   "metadata": {},
   "source": [
    "#### min / max / sum / prod"
   ]
  },
  {
   "cell_type": "code",
   "execution_count": 48,
   "id": "5e342fb9-135d-496c-a965-87f18d190ff6",
   "metadata": {},
   "outputs": [
    {
     "data": {
      "text/plain": [
       "30.0"
      ]
     },
     "execution_count": 48,
     "metadata": {},
     "output_type": "execute_result"
    }
   ],
   "source": [
    "np.min(a1)"
   ]
  },
  {
   "cell_type": "code",
   "execution_count": 49,
   "id": "d19d06c2-4509-4edd-a055-efb64d85ce6c",
   "metadata": {},
   "outputs": [
    {
     "data": {
      "text/plain": [
       "96.0"
      ]
     },
     "execution_count": 49,
     "metadata": {},
     "output_type": "execute_result"
    }
   ],
   "source": [
    "np.max(a1)"
   ]
  },
  {
   "cell_type": "code",
   "execution_count": 50,
   "id": "1462f505-56f6-44d2-91a3-945098a64963",
   "metadata": {},
   "outputs": [
    {
     "data": {
      "text/plain": [
       "496.0"
      ]
     },
     "execution_count": 50,
     "metadata": {},
     "output_type": "execute_result"
    }
   ],
   "source": [
    "np.sum(a1)"
   ]
  },
  {
   "cell_type": "code",
   "execution_count": 51,
   "id": "8d063b0c-985d-4f81-b4b3-68ccc96645cf",
   "metadata": {},
   "outputs": [
    {
     "data": {
      "text/plain": [
       "2556117907200000.0"
      ]
     },
     "execution_count": 51,
     "metadata": {},
     "output_type": "execute_result"
    }
   ],
   "source": [
    "np.prod(a1)"
   ]
  },
  {
   "cell_type": "code",
   "execution_count": 52,
   "id": "bc864845-e7e9-4d75-8517-302be1161e30",
   "metadata": {},
   "outputs": [
    {
     "data": {
      "text/plain": [
       "array([58., 87., 96.])"
      ]
     },
     "execution_count": 52,
     "metadata": {},
     "output_type": "execute_result"
    }
   ],
   "source": [
    "# We can apply the above functions column as well row wise too\n",
    "# column wise operation =>  axis =0\n",
    "# row wise operation =>  axis =1\n",
    "\n",
    "np.max(a1 , axis = 0)"
   ]
  },
  {
   "cell_type": "code",
   "execution_count": 53,
   "id": "2100a1be-5129-4803-8f45-74374e599236",
   "metadata": {},
   "outputs": [
    {
     "data": {
      "text/plain": [
       "array([135., 222., 139.])"
      ]
     },
     "execution_count": 53,
     "metadata": {},
     "output_type": "execute_result"
    }
   ],
   "source": [
    "np.sum(a1, axis =1)"
   ]
  },
  {
   "cell_type": "markdown",
   "id": "7ab41450-7616-4c18-a70b-4e72a732c44a",
   "metadata": {},
   "source": [
    "#### statistical fucntions"
   ]
  },
  {
   "cell_type": "code",
   "execution_count": 54,
   "id": "ac4f54db-4d21-4775-a5cb-12a3255a098a",
   "metadata": {},
   "outputs": [
    {
     "name": "stdout",
     "output_type": "stream",
     "text": [
      "55.111111111111114\n",
      "50.0\n",
      "21.189328784107055\n",
      "448.9876543209877\n"
     ]
    }
   ],
   "source": [
    "print(np.mean(a1))\n",
    "print(np.median(a1))\n",
    "print(np.std(a1))\n",
    "print(np.var(a1))"
   ]
  },
  {
   "cell_type": "code",
   "execution_count": 55,
   "id": "ad018540-3190-4b55-aae8-f649b9720e16",
   "metadata": {},
   "outputs": [
    {
     "name": "stdout",
     "output_type": "stream",
     "text": [
      "[45.         74.         46.33333333]\n",
      "[50. 87. 41.]\n",
      "[10.8012345  25.01999201  8.25967446]\n",
      "[116.66666667 626.          68.22222222]\n"
     ]
    }
   ],
   "source": [
    "print(np.mean(a1,  axis = 1))\n",
    "print(np.median(a1,  axis = 1))\n",
    "print(np.std(a1,  axis = 1))\n",
    "print(np.var(a1,  axis = 1))"
   ]
  },
  {
   "cell_type": "markdown",
   "id": "0409fa52-a467-41c5-b859-6fc54bf15493",
   "metadata": {},
   "source": [
    "#### Dot Product"
   ]
  },
  {
   "cell_type": "code",
   "execution_count": 56,
   "id": "5454c0a9-13e8-4a89-bedc-8e8f1196ddb7",
   "metadata": {},
   "outputs": [],
   "source": [
    "a1=np.arange(12).reshape(3,4)\n",
    "a2=np.arange(7,19).reshape(4,3)"
   ]
  },
  {
   "cell_type": "code",
   "execution_count": 57,
   "id": "bb810a01-7acc-4013-831e-365d8ea44db9",
   "metadata": {},
   "outputs": [
    {
     "data": {
      "text/plain": [
       "array([[ 84,  90,  96],\n",
       "       [268, 290, 312],\n",
       "       [452, 490, 528]])"
      ]
     },
     "execution_count": 57,
     "metadata": {},
     "output_type": "execute_result"
    }
   ],
   "source": [
    "np.dot(a1,a2)"
   ]
  },
  {
   "cell_type": "markdown",
   "id": "6043ce05-92e4-4153-9330-4c3935a5976f",
   "metadata": {},
   "source": [
    "#### exp() / log()"
   ]
  },
  {
   "cell_type": "code",
   "execution_count": 58,
   "id": "8d87e7ed-89df-480b-a8ed-aa0342ef6181",
   "metadata": {},
   "outputs": [
    {
     "data": {
      "text/plain": [
       "array([[1.00000000e+00, 2.71828183e+00, 7.38905610e+00, 2.00855369e+01],\n",
       "       [5.45981500e+01, 1.48413159e+02, 4.03428793e+02, 1.09663316e+03],\n",
       "       [2.98095799e+03, 8.10308393e+03, 2.20264658e+04, 5.98741417e+04]])"
      ]
     },
     "execution_count": 58,
     "metadata": {},
     "output_type": "execute_result"
    }
   ],
   "source": [
    "np.exp(a1)"
   ]
  },
  {
   "cell_type": "code",
   "execution_count": 59,
   "id": "611e7621-3173-4b93-b353-6524fad6cc64",
   "metadata": {},
   "outputs": [
    {
     "name": "stderr",
     "output_type": "stream",
     "text": [
      "C:\\Users\\Shrijeet Kumar\\AppData\\Local\\Temp\\ipykernel_18224\\2387409814.py:1: RuntimeWarning: divide by zero encountered in log\n",
      "  np.log(a1)\n"
     ]
    },
    {
     "data": {
      "text/plain": [
       "array([[      -inf, 0.        , 0.69314718, 1.09861229],\n",
       "       [1.38629436, 1.60943791, 1.79175947, 1.94591015],\n",
       "       [2.07944154, 2.19722458, 2.30258509, 2.39789527]])"
      ]
     },
     "execution_count": 59,
     "metadata": {},
     "output_type": "execute_result"
    }
   ],
   "source": [
    "np.log(a1)"
   ]
  },
  {
   "cell_type": "markdown",
   "id": "ef774fa7-4c75-4636-a63b-4365c1614892",
   "metadata": {},
   "source": [
    "#### round() / ceil() / floor()"
   ]
  },
  {
   "cell_type": "code",
   "execution_count": 60,
   "id": "940f46fa-757e-427a-8aa4-e7f20431e5aa",
   "metadata": {},
   "outputs": [
    {
     "data": {
      "text/plain": [
       "array([[27.02697381, 79.12420167, 18.89547409, 36.94801453],\n",
       "       [ 1.99418626,  5.55998076, 64.66507634, 88.05025698],\n",
       "       [44.08553657, 63.5106567 , 78.02141443, 55.38549688]])"
      ]
     },
     "execution_count": 60,
     "metadata": {},
     "output_type": "execute_result"
    }
   ],
   "source": [
    "a1= (np.random.random((3,4)))*100\n",
    "a1"
   ]
  },
  {
   "cell_type": "code",
   "execution_count": 61,
   "id": "26fbc0a1-68dd-4a0d-b8bd-9d82fd893605",
   "metadata": {},
   "outputs": [
    {
     "data": {
      "text/plain": [
       "array([[27., 79., 19., 37.],\n",
       "       [ 2.,  6., 65., 88.],\n",
       "       [44., 64., 78., 55.]])"
      ]
     },
     "execution_count": 61,
     "metadata": {},
     "output_type": "execute_result"
    }
   ],
   "source": [
    "np.round(a1)"
   ]
  },
  {
   "cell_type": "code",
   "execution_count": 62,
   "id": "2a98b1bb-8de6-4fa4-acd8-45e124886b7d",
   "metadata": {},
   "outputs": [
    {
     "data": {
      "text/plain": [
       "array([[27., 79., 18., 36.],\n",
       "       [ 1.,  5., 64., 88.],\n",
       "       [44., 63., 78., 55.]])"
      ]
     },
     "execution_count": 62,
     "metadata": {},
     "output_type": "execute_result"
    }
   ],
   "source": [
    "np.floor(a1)"
   ]
  },
  {
   "cell_type": "code",
   "execution_count": 63,
   "id": "01757a8c-3b10-4da9-8521-61c6dbf62b0c",
   "metadata": {},
   "outputs": [
    {
     "data": {
      "text/plain": [
       "array([[28., 80., 19., 37.],\n",
       "       [ 2.,  6., 65., 89.],\n",
       "       [45., 64., 79., 56.]])"
      ]
     },
     "execution_count": 63,
     "metadata": {},
     "output_type": "execute_result"
    }
   ],
   "source": [
    "np.ceil(a1)"
   ]
  },
  {
   "cell_type": "markdown",
   "id": "ed5e8194-d512-41f9-b47e-3ce22d3ffca9",
   "metadata": {},
   "source": [
    "### Indexing and Slicing"
   ]
  },
  {
   "cell_type": "code",
   "execution_count": 64,
   "id": "d8fd8823-e72c-4424-8f10-3acac18a09c1",
   "metadata": {},
   "outputs": [],
   "source": [
    "a1 = np.arange(10)\n",
    "a2 = np.arange(12).reshape(3,4)\n",
    "a3 = np.arange(8).reshape(2,2,2)"
   ]
  },
  {
   "cell_type": "code",
   "execution_count": 65,
   "id": "80b1e569-6a24-479d-8f10-83a2db61607e",
   "metadata": {},
   "outputs": [
    {
     "data": {
      "text/plain": [
       "array([0, 1, 2, 3, 4, 5, 6, 7, 8, 9])"
      ]
     },
     "execution_count": 65,
     "metadata": {},
     "output_type": "execute_result"
    }
   ],
   "source": [
    "a1 "
   ]
  },
  {
   "cell_type": "code",
   "execution_count": 66,
   "id": "79e9cc16-b84f-4f75-8983-2e09260f3655",
   "metadata": {},
   "outputs": [
    {
     "data": {
      "text/plain": [
       "array([[ 0,  1,  2,  3],\n",
       "       [ 4,  5,  6,  7],\n",
       "       [ 8,  9, 10, 11]])"
      ]
     },
     "execution_count": 66,
     "metadata": {},
     "output_type": "execute_result"
    }
   ],
   "source": [
    "a2"
   ]
  },
  {
   "cell_type": "code",
   "execution_count": 67,
   "id": "1c9fadb9-67a1-4a86-b736-8f67ade69561",
   "metadata": {},
   "outputs": [
    {
     "data": {
      "text/plain": [
       "array([[[0, 1],\n",
       "        [2, 3]],\n",
       "\n",
       "       [[4, 5],\n",
       "        [6, 7]]])"
      ]
     },
     "execution_count": 67,
     "metadata": {},
     "output_type": "execute_result"
    }
   ],
   "source": [
    "a3"
   ]
  },
  {
   "cell_type": "markdown",
   "id": "5a4e6bd2-fe93-48ac-8394-d9f5b4d795cb",
   "metadata": {},
   "source": [
    "#### 1D array"
   ]
  },
  {
   "cell_type": "code",
   "execution_count": 68,
   "id": "db8d7094-ad97-40b4-8196-2145ff2b5e36",
   "metadata": {},
   "outputs": [
    {
     "data": {
      "text/plain": [
       "9"
      ]
     },
     "execution_count": 68,
     "metadata": {},
     "output_type": "execute_result"
    }
   ],
   "source": [
    "a1[-1]"
   ]
  },
  {
   "cell_type": "code",
   "execution_count": 69,
   "id": "f9e23c24-07a5-4a7a-986b-a5376caed09d",
   "metadata": {},
   "outputs": [
    {
     "data": {
      "text/plain": [
       "0"
      ]
     },
     "execution_count": 69,
     "metadata": {},
     "output_type": "execute_result"
    }
   ],
   "source": [
    "a1[0]"
   ]
  },
  {
   "cell_type": "code",
   "execution_count": 70,
   "id": "a66a7883-0a2e-49a5-b8c0-a80e090b25e6",
   "metadata": {},
   "outputs": [
    {
     "data": {
      "text/plain": [
       "array([0, 1, 2])"
      ]
     },
     "execution_count": 70,
     "metadata": {},
     "output_type": "execute_result"
    }
   ],
   "source": [
    "a1[0:3] # First included and last not included "
   ]
  },
  {
   "cell_type": "code",
   "execution_count": 71,
   "id": "3f115c06-f278-444e-9af8-7ece91b913a0",
   "metadata": {},
   "outputs": [
    {
     "data": {
      "text/plain": [
       "array([6, 7, 8])"
      ]
     },
     "execution_count": 71,
     "metadata": {},
     "output_type": "execute_result"
    }
   ],
   "source": [
    "a1[-4 : -1]"
   ]
  },
  {
   "cell_type": "markdown",
   "id": "b04a340c-9f3a-48cf-a00c-32c11ee4fad5",
   "metadata": {},
   "source": [
    "#### 2D Array Indexing "
   ]
  },
  {
   "cell_type": "code",
   "execution_count": 72,
   "id": "78c29516-52fc-43cd-b7ae-b82bf6aae451",
   "metadata": {},
   "outputs": [
    {
     "data": {
      "text/plain": [
       "array([[ 0,  1,  2,  3],\n",
       "       [ 4,  5,  6,  7],\n",
       "       [ 8,  9, 10, 11]])"
      ]
     },
     "execution_count": 72,
     "metadata": {},
     "output_type": "execute_result"
    }
   ],
   "source": [
    "a2"
   ]
  },
  {
   "cell_type": "code",
   "execution_count": 74,
   "id": "fb6c36c2-dde1-421f-8ad3-40d8fba1986e",
   "metadata": {},
   "outputs": [
    {
     "data": {
      "text/plain": [
       "6"
      ]
     },
     "execution_count": 74,
     "metadata": {},
     "output_type": "execute_result"
    }
   ],
   "source": [
    "a2[1 , 2] #=> a2[row , column]"
   ]
  },
  {
   "cell_type": "code",
   "execution_count": 75,
   "id": "356ef261-55d7-4882-a097-92512facaa36",
   "metadata": {},
   "outputs": [
    {
     "data": {
      "text/plain": [
       "9"
      ]
     },
     "execution_count": 75,
     "metadata": {},
     "output_type": "execute_result"
    }
   ],
   "source": [
    "a2[2 , 1]"
   ]
  },
  {
   "cell_type": "markdown",
   "id": "7cdefc28-0998-4f49-905e-964cb48f0377",
   "metadata": {},
   "source": [
    "#### 3D Array Indexing "
   ]
  },
  {
   "cell_type": "code",
   "execution_count": 76,
   "id": "c7a70218-ffe1-440f-b486-a8ba91bc76f9",
   "metadata": {},
   "outputs": [
    {
     "data": {
      "text/plain": [
       "array([[[0, 1],\n",
       "        [2, 3]],\n",
       "\n",
       "       [[4, 5],\n",
       "        [6, 7]]])"
      ]
     },
     "execution_count": 76,
     "metadata": {},
     "output_type": "execute_result"
    }
   ],
   "source": [
    "a3"
   ]
  },
  {
   "cell_type": "code",
   "execution_count": 79,
   "id": "72f20d98-18a4-44e0-ad34-bdd5eb2623c7",
   "metadata": {},
   "outputs": [
    {
     "data": {
      "text/plain": [
       "5"
      ]
     },
     "execution_count": 79,
     "metadata": {},
     "output_type": "execute_result"
    }
   ],
   "source": [
    "a3[1 , 0 , 1] # a3[2d-matrix , row , column]"
   ]
  },
  {
   "cell_type": "code",
   "execution_count": 80,
   "id": "775b16cf-cc7e-408f-9486-42d90288e662",
   "metadata": {},
   "outputs": [
    {
     "data": {
      "text/plain": [
       "2"
      ]
     },
     "execution_count": 80,
     "metadata": {},
     "output_type": "execute_result"
    }
   ],
   "source": [
    "a3[0 , 1 , 0]"
   ]
  },
  {
   "cell_type": "code",
   "execution_count": 81,
   "id": "50abe974-7247-4638-9581-a087a1e18ae0",
   "metadata": {},
   "outputs": [
    {
     "data": {
      "text/plain": [
       "0"
      ]
     },
     "execution_count": 81,
     "metadata": {},
     "output_type": "execute_result"
    }
   ],
   "source": [
    "a3[0 , 0 ,0]"
   ]
  },
  {
   "cell_type": "code",
   "execution_count": 82,
   "id": "6e5dd1fd-7b0c-4f6f-b44b-5c32dd9d6700",
   "metadata": {},
   "outputs": [
    {
     "data": {
      "text/plain": [
       "6"
      ]
     },
     "execution_count": 82,
     "metadata": {},
     "output_type": "execute_result"
    }
   ],
   "source": [
    "a3[1 , 1 , 0]"
   ]
  },
  {
   "cell_type": "markdown",
   "id": "4bee163b-ae48-4506-8bca-583e75309529",
   "metadata": {},
   "source": [
    "#### 2-D array Slicing "
   ]
  },
  {
   "cell_type": "code",
   "execution_count": 84,
   "id": "957797ae-ea3a-4082-a3d8-df3c8563693e",
   "metadata": {},
   "outputs": [
    {
     "data": {
      "text/plain": [
       "array([[ 0,  1,  2,  3],\n",
       "       [ 4,  5,  6,  7],\n",
       "       [ 8,  9, 10, 11]])"
      ]
     },
     "execution_count": 84,
     "metadata": {},
     "output_type": "execute_result"
    }
   ],
   "source": [
    "a2"
   ]
  },
  {
   "cell_type": "code",
   "execution_count": 86,
   "id": "c1dc36ba-0bf6-49f8-a23b-770536bea470",
   "metadata": {},
   "outputs": [
    {
     "data": {
      "text/plain": [
       "array([[1, 2],\n",
       "       [5, 6]])"
      ]
     },
     "execution_count": 86,
     "metadata": {},
     "output_type": "execute_result"
    }
   ],
   "source": [
    "# slice 1 , 2 , 5 , 6\n",
    "a2[0:2 , 1:3]"
   ]
  },
  {
   "cell_type": "code",
   "execution_count": 89,
   "id": "ba28d822-4ac5-471c-992b-5cd42f9a68ec",
   "metadata": {},
   "outputs": [
    {
     "data": {
      "text/plain": [
       "array([[ 0,  2],\n",
       "       [ 8, 10]])"
      ]
     },
     "execution_count": 89,
     "metadata": {},
     "output_type": "execute_result"
    }
   ],
   "source": [
    "# slice 0 , 2 , 8 , 10\n",
    "a2[0::2 , 0::2]"
   ]
  },
  {
   "cell_type": "code",
   "execution_count": 91,
   "id": "16884006-2cf7-477b-a6d5-26606916600f",
   "metadata": {},
   "outputs": [
    {
     "data": {
      "text/plain": [
       "array([[ 5,  7],\n",
       "       [ 9, 11]])"
      ]
     },
     "execution_count": 91,
     "metadata": {},
     "output_type": "execute_result"
    }
   ],
   "source": [
    "# slice 5 , 7 , 9 , 10\n",
    "a2[1: , 1::2]"
   ]
  },
  {
   "cell_type": "code",
   "execution_count": 94,
   "id": "8f9e0539-b6a4-4c1b-97a8-3d0d83015222",
   "metadata": {},
   "outputs": [
    {
     "data": {
      "text/plain": [
       "array([4, 7])"
      ]
     },
     "execution_count": 94,
     "metadata": {},
     "output_type": "execute_result"
    }
   ],
   "source": [
    "# slice 4 , 7\n",
    "a2[1, 0::3]"
   ]
  },
  {
   "cell_type": "code",
   "execution_count": 95,
   "id": "096e8953-1270-4198-8391-9f403e1f6977",
   "metadata": {},
   "outputs": [
    {
     "data": {
      "text/plain": [
       "array([[1, 2, 3],\n",
       "       [5, 6, 7]])"
      ]
     },
     "execution_count": 95,
     "metadata": {},
     "output_type": "execute_result"
    }
   ],
   "source": [
    "# slice 1  , 2 , 3  , 5 , 6 , 7\n",
    "a2[0:2, 1:]"
   ]
  },
  {
   "cell_type": "markdown",
   "id": "5d1ae2f4-d3be-4804-ba96-968408723089",
   "metadata": {},
   "source": [
    "#### 3-D Slicing "
   ]
  },
  {
   "cell_type": "code",
   "execution_count": 96,
   "id": "0dfcbfd8-f9fa-4c12-9eb9-88f809531d2e",
   "metadata": {},
   "outputs": [],
   "source": [
    "a3 = np.arange(27).reshape(3 , 3 , 3)"
   ]
  },
  {
   "cell_type": "code",
   "execution_count": 97,
   "id": "30fbf4aa-a039-47a4-8146-80785b971699",
   "metadata": {},
   "outputs": [
    {
     "data": {
      "text/plain": [
       "array([[[ 0,  1,  2],\n",
       "        [ 3,  4,  5],\n",
       "        [ 6,  7,  8]],\n",
       "\n",
       "       [[ 9, 10, 11],\n",
       "        [12, 13, 14],\n",
       "        [15, 16, 17]],\n",
       "\n",
       "       [[18, 19, 20],\n",
       "        [21, 22, 23],\n",
       "        [24, 25, 26]]])"
      ]
     },
     "execution_count": 97,
     "metadata": {},
     "output_type": "execute_result"
    }
   ],
   "source": [
    "a3"
   ]
  },
  {
   "cell_type": "code",
   "execution_count": 98,
   "id": "9c4d04e8-39a7-478e-9b2e-88dc6f263994",
   "metadata": {},
   "outputs": [
    {
     "data": {
      "text/plain": [
       "array([[ 9, 10, 11],\n",
       "       [12, 13, 14],\n",
       "       [15, 16, 17]])"
      ]
     },
     "execution_count": 98,
     "metadata": {},
     "output_type": "execute_result"
    }
   ],
   "source": [
    "# Take out the middle 2d array\n",
    "a3[1]"
   ]
  },
  {
   "cell_type": "code",
   "execution_count": 100,
   "id": "9db6b30f-72dd-4354-8081-3851bf83a716",
   "metadata": {},
   "outputs": [
    {
     "data": {
      "text/plain": [
       "array([[[ 0,  1,  2],\n",
       "        [ 3,  4,  5],\n",
       "        [ 6,  7,  8]],\n",
       "\n",
       "       [[18, 19, 20],\n",
       "        [21, 22, 23],\n",
       "        [24, 25, 26]]])"
      ]
     },
     "execution_count": 100,
     "metadata": {},
     "output_type": "execute_result"
    }
   ],
   "source": [
    "# Take out alternate 2D arrays\n",
    "a3[0::2]"
   ]
  },
  {
   "cell_type": "code",
   "execution_count": 101,
   "id": "aefcb46d-a375-4bf5-a24a-24ee6b4434a9",
   "metadata": {},
   "outputs": [
    {
     "data": {
      "text/plain": [
       "array([3, 4, 5])"
      ]
     },
     "execution_count": 101,
     "metadata": {},
     "output_type": "execute_result"
    }
   ],
   "source": [
    "# Print 2nd row of 1st 2D Array\n",
    "a3[0 , 1]"
   ]
  },
  {
   "cell_type": "code",
   "execution_count": 102,
   "id": "6e589175-41a7-4086-991c-f7c054d8fc0b",
   "metadata": {},
   "outputs": [
    {
     "data": {
      "text/plain": [
       "array([[ 3,  4,  5],\n",
       "       [12, 13, 14],\n",
       "       [21, 22, 23]])"
      ]
     },
     "execution_count": 102,
     "metadata": {},
     "output_type": "execute_result"
    }
   ],
   "source": [
    "# 2nd row of every 2d Array\n",
    "\n",
    "a3[0: , 1]"
   ]
  },
  {
   "cell_type": "code",
   "execution_count": 103,
   "id": "9958c918-3eff-42bf-91f9-bfe89aa741ca",
   "metadata": {},
   "outputs": [
    {
     "data": {
      "text/plain": [
       "array([[[ 4,  5],\n",
       "        [ 7,  8]],\n",
       "\n",
       "       [[22, 23],\n",
       "        [25, 26]]])"
      ]
     },
     "execution_count": 103,
     "metadata": {},
     "output_type": "execute_result"
    }
   ],
   "source": [
    "# 4, 5 , 7 , 8 from 1st 2-D array and 22 , 23 , 25 , 26 from last 2-D array \n",
    "\n",
    "a3[0::2 , 1: , 1:]"
   ]
  },
  {
   "cell_type": "code",
   "execution_count": 104,
   "id": "2f90f0ff-f34e-40f0-96ab-208b876012c4",
   "metadata": {},
   "outputs": [
    {
     "data": {
      "text/plain": [
       "array([[ 0,  2],\n",
       "       [18, 20]])"
      ]
     },
     "execution_count": 104,
     "metadata": {},
     "output_type": "execute_result"
    }
   ],
   "source": [
    "# 0 , 2 , 18 , 20 \n",
    "a3[0::2 , 0 , 0::2]"
   ]
  },
  {
   "cell_type": "markdown",
   "id": "27bf95bb-791d-481a-b6ff-efb43a97eeba",
   "metadata": {},
   "source": [
    "#### Iterating "
   ]
  },
  {
   "cell_type": "code",
   "execution_count": 105,
   "id": "e70927dc-4b32-42eb-918c-ae8e14437e3e",
   "metadata": {},
   "outputs": [
    {
     "name": "stdout",
     "output_type": "stream",
     "text": [
      "0\n",
      "1\n",
      "2\n",
      "3\n",
      "4\n",
      "5\n",
      "6\n",
      "7\n",
      "8\n",
      "9\n"
     ]
    }
   ],
   "source": [
    "for i in a1 :\n",
    "    print(i)"
   ]
  },
  {
   "cell_type": "code",
   "execution_count": 106,
   "id": "5c2cac86-68f9-4ab2-96a8-3ae7477c110e",
   "metadata": {},
   "outputs": [
    {
     "name": "stdout",
     "output_type": "stream",
     "text": [
      "[0 1 2 3]\n",
      "[4 5 6 7]\n",
      "[ 8  9 10 11]\n"
     ]
    }
   ],
   "source": [
    "for i in  a2 : \n",
    "    print (i)"
   ]
  },
  {
   "cell_type": "code",
   "execution_count": 107,
   "id": "968190cb-ae8e-4018-9ad4-78a8f313283b",
   "metadata": {},
   "outputs": [
    {
     "name": "stdout",
     "output_type": "stream",
     "text": [
      "[[0 1 2]\n",
      " [3 4 5]\n",
      " [6 7 8]]\n",
      "[[ 9 10 11]\n",
      " [12 13 14]\n",
      " [15 16 17]]\n",
      "[[18 19 20]\n",
      " [21 22 23]\n",
      " [24 25 26]]\n"
     ]
    }
   ],
   "source": [
    "for i in a3 : \n",
    "    print(i)"
   ]
  },
  {
   "cell_type": "markdown",
   "id": "46f47ed9-806c-426f-bb36-1f784b6807af",
   "metadata": {},
   "source": [
    "#### To go to each items of the 2-d/3-d array "
   ]
  },
  {
   "cell_type": "code",
   "execution_count": 108,
   "id": "d781e728-4285-401c-a1d4-be5b2e2451e9",
   "metadata": {},
   "outputs": [
    {
     "name": "stdout",
     "output_type": "stream",
     "text": [
      "0\n",
      "1\n",
      "2\n",
      "3\n",
      "4\n",
      "5\n",
      "6\n",
      "7\n",
      "8\n",
      "9\n",
      "10\n",
      "11\n"
     ]
    }
   ],
   "source": [
    "for i in np.nditer(a2): \n",
    "    print(i)"
   ]
  },
  {
   "cell_type": "code",
   "execution_count": 109,
   "id": "2b80faa7-7254-42a4-bae7-55460e95c98f",
   "metadata": {},
   "outputs": [
    {
     "name": "stdout",
     "output_type": "stream",
     "text": [
      "0\n",
      "1\n",
      "2\n",
      "3\n",
      "4\n",
      "5\n",
      "6\n",
      "7\n",
      "8\n",
      "9\n",
      "10\n",
      "11\n",
      "12\n",
      "13\n",
      "14\n",
      "15\n",
      "16\n",
      "17\n",
      "18\n",
      "19\n",
      "20\n",
      "21\n",
      "22\n",
      "23\n",
      "24\n",
      "25\n",
      "26\n"
     ]
    }
   ],
   "source": [
    "for i in np.nditer(a3): \n",
    "    print(i)"
   ]
  },
  {
   "cell_type": "markdown",
   "id": "f99b6e4e-1e91-4fc5-806d-6768609757d0",
   "metadata": {},
   "source": [
    "#### Transpose"
   ]
  },
  {
   "cell_type": "code",
   "execution_count": 110,
   "id": "ddb8b727-d9f5-49ac-9bf1-861263f02828",
   "metadata": {},
   "outputs": [
    {
     "data": {
      "text/plain": [
       "array([[ 0,  1,  2,  3],\n",
       "       [ 4,  5,  6,  7],\n",
       "       [ 8,  9, 10, 11]])"
      ]
     },
     "execution_count": 110,
     "metadata": {},
     "output_type": "execute_result"
    }
   ],
   "source": [
    "a2"
   ]
  },
  {
   "cell_type": "code",
   "execution_count": 111,
   "id": "f3fdfe7d-4c19-4772-97bd-32451b771960",
   "metadata": {},
   "outputs": [
    {
     "data": {
      "text/plain": [
       "array([[ 0,  4,  8],\n",
       "       [ 1,  5,  9],\n",
       "       [ 2,  6, 10],\n",
       "       [ 3,  7, 11]])"
      ]
     },
     "execution_count": 111,
     "metadata": {},
     "output_type": "execute_result"
    }
   ],
   "source": [
    "a2.T"
   ]
  },
  {
   "cell_type": "markdown",
   "id": "53a84d17-2dd7-4730-8d9a-27e1a52c1830",
   "metadata": {},
   "source": [
    "#### Ravel"
   ]
  },
  {
   "cell_type": "code",
   "execution_count": 113,
   "id": "c6422920-9cbf-4fa1-8509-8b314bdca1c4",
   "metadata": {},
   "outputs": [
    {
     "data": {
      "text/plain": [
       "array([ 0,  1,  2,  3,  4,  5,  6,  7,  8,  9, 10, 11])"
      ]
     },
     "execution_count": 113,
     "metadata": {},
     "output_type": "execute_result"
    }
   ],
   "source": [
    "a2.ravel() # => Used to convert any array into 1-d array"
   ]
  },
  {
   "cell_type": "code",
   "execution_count": 114,
   "id": "efc34f92-c248-48b2-b650-145c373d40af",
   "metadata": {},
   "outputs": [
    {
     "data": {
      "text/plain": [
       "array([ 0,  1,  2,  3,  4,  5,  6,  7,  8,  9, 10, 11, 12, 13, 14, 15, 16,\n",
       "       17, 18, 19, 20, 21, 22, 23, 24, 25, 26])"
      ]
     },
     "execution_count": 114,
     "metadata": {},
     "output_type": "execute_result"
    }
   ],
   "source": [
    "a3.ravel()"
   ]
  },
  {
   "cell_type": "markdown",
   "id": "7b5cb027-307c-4c05-94b4-6c81be1e1f07",
   "metadata": {},
   "source": [
    "### Stacking"
   ]
  },
  {
   "cell_type": "markdown",
   "id": "b838d80d-f214-4ee0-a1b5-b1ad4c5cde6d",
   "metadata": {},
   "source": [
    "#### Horizontal Stacking "
   ]
  },
  {
   "cell_type": "code",
   "execution_count": 115,
   "id": "7ea74ca7-1c5b-41e0-91ee-57c266e366c6",
   "metadata": {},
   "outputs": [],
   "source": [
    "# Shapes should be same "
   ]
  },
  {
   "cell_type": "code",
   "execution_count": 116,
   "id": "f630e686-5099-428e-92e8-b9e2f2f32d0e",
   "metadata": {},
   "outputs": [],
   "source": [
    "a4 = np.arange(12).reshape(3,4)\n",
    "a5 = np.arange(12 , 24).reshape(3,4)"
   ]
  },
  {
   "cell_type": "code",
   "execution_count": 118,
   "id": "f6161f70-21a2-4818-a3d3-c807a0cb5e62",
   "metadata": {},
   "outputs": [
    {
     "data": {
      "text/plain": [
       "array([[ 0,  1,  2,  3, 12, 13, 14, 15],\n",
       "       [ 4,  5,  6,  7, 16, 17, 18, 19],\n",
       "       [ 8,  9, 10, 11, 20, 21, 22, 23]])"
      ]
     },
     "execution_count": 118,
     "metadata": {},
     "output_type": "execute_result"
    }
   ],
   "source": [
    "np.hstack((a4 , a5))"
   ]
  },
  {
   "cell_type": "code",
   "execution_count": 119,
   "id": "f6984aa0-04b7-4789-b3bf-4a58614a005b",
   "metadata": {},
   "outputs": [
    {
     "data": {
      "text/plain": [
       "array([[ 0,  1,  2,  3, 12, 13, 14, 15,  0,  1,  2,  3, 12, 13, 14, 15],\n",
       "       [ 4,  5,  6,  7, 16, 17, 18, 19,  4,  5,  6,  7, 16, 17, 18, 19],\n",
       "       [ 8,  9, 10, 11, 20, 21, 22, 23,  8,  9, 10, 11, 20, 21, 22, 23]])"
      ]
     },
     "execution_count": 119,
     "metadata": {},
     "output_type": "execute_result"
    }
   ],
   "source": [
    "np.hstack((a4 , a5 , a4 , a5))"
   ]
  },
  {
   "cell_type": "markdown",
   "id": "bdfe6627-a881-432c-9da6-cf41f71fdfa2",
   "metadata": {},
   "source": [
    "#### Vertical Stacking "
   ]
  },
  {
   "cell_type": "code",
   "execution_count": 120,
   "id": "7fab9957-d253-45c6-aa04-725f6274eeef",
   "metadata": {},
   "outputs": [
    {
     "data": {
      "text/plain": [
       "array([[ 0,  1,  2,  3],\n",
       "       [ 4,  5,  6,  7],\n",
       "       [ 8,  9, 10, 11],\n",
       "       [12, 13, 14, 15],\n",
       "       [16, 17, 18, 19],\n",
       "       [20, 21, 22, 23]])"
      ]
     },
     "execution_count": 120,
     "metadata": {},
     "output_type": "execute_result"
    }
   ],
   "source": [
    "np.vstack((a4 , a5 ))"
   ]
  },
  {
   "cell_type": "code",
   "execution_count": 121,
   "id": "4a78b778-2781-4864-b8ef-bca8327a3e3d",
   "metadata": {},
   "outputs": [
    {
     "data": {
      "text/plain": [
       "array([[ 0,  1,  2,  3],\n",
       "       [ 4,  5,  6,  7],\n",
       "       [ 8,  9, 10, 11],\n",
       "       [12, 13, 14, 15],\n",
       "       [16, 17, 18, 19],\n",
       "       [20, 21, 22, 23],\n",
       "       [ 0,  1,  2,  3],\n",
       "       [ 4,  5,  6,  7],\n",
       "       [ 8,  9, 10, 11]])"
      ]
     },
     "execution_count": 121,
     "metadata": {},
     "output_type": "execute_result"
    }
   ],
   "source": [
    "np.vstack((a4 , a5 , a4))"
   ]
  },
  {
   "cell_type": "markdown",
   "id": "c4d2b7cd-4594-4cfb-b40c-ccce82d03527",
   "metadata": {},
   "source": [
    "### Splitting"
   ]
  },
  {
   "cell_type": "code",
   "execution_count": 122,
   "id": "e20f047b-aa4f-4c7a-8b2f-8163597c66a1",
   "metadata": {},
   "outputs": [
    {
     "data": {
      "text/plain": [
       "array([[ 0,  1,  2,  3],\n",
       "       [ 4,  5,  6,  7],\n",
       "       [ 8,  9, 10, 11]])"
      ]
     },
     "execution_count": 122,
     "metadata": {},
     "output_type": "execute_result"
    }
   ],
   "source": [
    "a4"
   ]
  },
  {
   "cell_type": "code",
   "execution_count": 123,
   "id": "748d903d-8752-4dd8-b3d8-c5b79794760c",
   "metadata": {},
   "outputs": [
    {
     "data": {
      "text/plain": [
       "[array([[0, 1],\n",
       "        [4, 5],\n",
       "        [8, 9]]),\n",
       " array([[ 2,  3],\n",
       "        [ 6,  7],\n",
       "        [10, 11]])]"
      ]
     },
     "execution_count": 123,
     "metadata": {},
     "output_type": "execute_result"
    }
   ],
   "source": [
    "np.hsplit(a4 , 2) #np.hsplit(array, No. of equal parts we want to cut)"
   ]
  },
  {
   "cell_type": "code",
   "execution_count": 125,
   "id": "a96ad71a-5433-415c-9dcb-44ab5f307e6c",
   "metadata": {},
   "outputs": [
    {
     "data": {
      "text/plain": [
       "[array([[0],\n",
       "        [4],\n",
       "        [8]]),\n",
       " array([[1],\n",
       "        [5],\n",
       "        [9]]),\n",
       " array([[ 2],\n",
       "        [ 6],\n",
       "        [10]]),\n",
       " array([[ 3],\n",
       "        [ 7],\n",
       "        [11]])]"
      ]
     },
     "execution_count": 125,
     "metadata": {},
     "output_type": "execute_result"
    }
   ],
   "source": [
    "np.hsplit(a4 , 4)"
   ]
  },
  {
   "cell_type": "code",
   "execution_count": 126,
   "id": "439e21b3-33b0-489d-b339-71327b8d626d",
   "metadata": {},
   "outputs": [
    {
     "data": {
      "text/plain": [
       "[array([[0, 1, 2, 3]]), array([[4, 5, 6, 7]]), array([[ 8,  9, 10, 11]])]"
      ]
     },
     "execution_count": 126,
     "metadata": {},
     "output_type": "execute_result"
    }
   ],
   "source": [
    "np.vsplit(a4 , 3)"
   ]
  },
  {
   "cell_type": "code",
   "execution_count": null,
   "id": "97d46cfe-8415-4f9b-9743-5f3bcb5268a5",
   "metadata": {},
   "outputs": [],
   "source": []
  },
  {
   "cell_type": "code",
   "execution_count": null,
   "id": "6b0a2be7-ecbe-4e11-abdd-01593ec6b49e",
   "metadata": {},
   "outputs": [],
   "source": []
  },
  {
   "cell_type": "code",
   "execution_count": null,
   "id": "6986d63d-b6b0-4aba-b48f-840cc0d9f81b",
   "metadata": {},
   "outputs": [],
   "source": []
  },
  {
   "cell_type": "code",
   "execution_count": null,
   "id": "0f3e6c69-1d36-4494-8570-002b5e4b4c87",
   "metadata": {},
   "outputs": [],
   "source": []
  },
  {
   "cell_type": "code",
   "execution_count": null,
   "id": "cb2d062a-0f73-4833-924f-2974da126c96",
   "metadata": {},
   "outputs": [],
   "source": []
  },
  {
   "cell_type": "code",
   "execution_count": null,
   "id": "53bf60a1-061b-433b-b1c5-55b730654098",
   "metadata": {},
   "outputs": [],
   "source": []
  },
  {
   "cell_type": "code",
   "execution_count": null,
   "id": "1cf0fd13-bc1a-4ca1-90a0-5ff7b9ccf622",
   "metadata": {},
   "outputs": [],
   "source": []
  },
  {
   "cell_type": "code",
   "execution_count": null,
   "id": "c1dbc0e8-dc06-45c9-8865-28f58bfb5c3a",
   "metadata": {},
   "outputs": [],
   "source": []
  },
  {
   "cell_type": "code",
   "execution_count": null,
   "id": "2245774e-4793-468f-a604-0f9a2579c0f1",
   "metadata": {},
   "outputs": [],
   "source": []
  },
  {
   "cell_type": "code",
   "execution_count": null,
   "id": "23e908ea-77b8-4a54-bb45-8940736c6843",
   "metadata": {},
   "outputs": [],
   "source": []
  },
  {
   "cell_type": "code",
   "execution_count": null,
   "id": "12a8bf42-92c4-4eba-a57c-7f2be5087885",
   "metadata": {},
   "outputs": [],
   "source": []
  },
  {
   "cell_type": "code",
   "execution_count": null,
   "id": "26c2f208-7fd0-4839-9903-4ad2adffd8cf",
   "metadata": {},
   "outputs": [],
   "source": []
  }
 ],
 "metadata": {
  "kernelspec": {
   "display_name": "Python 3 (ipykernel)",
   "language": "python",
   "name": "python3"
  },
  "language_info": {
   "codemirror_mode": {
    "name": "ipython",
    "version": 3
   },
   "file_extension": ".py",
   "mimetype": "text/x-python",
   "name": "python",
   "nbconvert_exporter": "python",
   "pygments_lexer": "ipython3",
   "version": "3.8.10"
  }
 },
 "nbformat": 4,
 "nbformat_minor": 5
}
